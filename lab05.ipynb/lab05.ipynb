{
 "cells": [
  {
   "cell_type": "markdown",
   "metadata": {},
   "source": [
    "Mix & Match Calculator\n",
    "\n",
    "Create Lists for [Item, Quantity, Price] with 10 random values of your choice.\n",
    "The item list can be of any category of your choice [Food Items, Grocery Items,...] or anything you choose that can be bought.\n",
    "\n",
    "Prepare a CSV file with combinations of these values with the help of random index & looping statements and other control structures we discussed in class.\n",
    "\n",
    "To get a random index or number to access items from the list, you can use the following:\n",
    "random is a library in Python that can be used to generate random numbers.\n",
    "\n",
    "import random # Importing the external library\n",
    "r1 = random.randint(0, 10) # Generating the random number from the range and store it in r1 variable\n",
    "\n",
    "More details of the Random library usage can be found here.\n",
    "\n",
    "Your CSV file should have a minimum of 100 rows created randomly with the data in the list and the random library.\n",
    "Each row in the CSV file will have (item, Quantity, and UnitPrice).\n",
    "\n",
    "After preparing the CSV with Python code, you need to compute\n",
    "The total cost for each row, display the result from the first 5 rows and the last 10 rows\n",
    "Calculate the total cost for each unique item in the dataset.\n",
    "Item Name | Total Quantity | Total\n",
    "Print the minimum & maximum price for each item sold\n",
    "Note:\n",
    "Create a folder Lab 05.\n",
    "Inside the folder, you will have Lab 05.ipynb and the CSV file will have your name as the filename.\n",
    "Submit the CSV file and IPYNB file in Moodle, and Update the same in GitHub and Submit the link in the text area provided."
   ]
  },
  {
   "cell_type": "code",
   "execution_count": 17,
   "metadata": {},
   "outputs": [
    {
     "name": "stdout",
     "output_type": "stream",
     "text": [
      "magie,9,90\t Total = 810\n",
      "\n",
      "lolipop,2,67\t Total = 134\n",
      "\n",
      "cake,3,34\t Total = 102\n",
      "\n",
      "piza,4,60\t Total = 240\n",
      "\n",
      "piza,4,50\t Total = 200\n",
      "\n",
      "lolipop,9,90\t Total = 810\n",
      "\n",
      "chips,4,20\t Total = 80\n",
      "\n",
      "lolipop,7,67\t Total = 469\n",
      "\n",
      "spices,1,20\t Total = 20\n",
      "\n",
      "piza,8,90\t Total = 720\n",
      "\n",
      "spices,5,100\t Total = 500\n",
      "\n",
      "cake,3,45\t Total = 135\n",
      "\n",
      "biscuit,5,100\t Total = 500\n",
      "\n",
      "magie,8,50\t Total = 400\n",
      "\n",
      "biscuit,2,80\t Total = 160\n",
      "\n"
     ]
    }
   ],
   "source": [
    "import random\n",
    "item=[\"chips\",\"biscuit\",\"cake\",\"burger\",\"piza\",\"lolipop\",\"chocolate\",\"spices\",\"sweet\",\"magie\"]\n",
    "quantity =[\"1\",\"4\",\"3\",\"7\",\"9\",\"6\",\"3\",\"2\",\"5\",\"8\"]\n",
    "price =[\"50\",\"90\",\"100\",\"34\",\"67\",\"90\",\"80\",\"45\",\"60\",\"20\"]\n",
    "file= open(\"23122028.csv\",\"w+\")\n",
    "for i in range(100):\n",
    "    \n",
    "    r1=random.randint(0,9)  #getting random numbers\n",
    "    r2=random.randint(0,9)\n",
    "    r3=random.randint(0,9)\n",
    "    intquantity= int(quantity[r2])\n",
    "    intprice = int(price[r3])\n",
    "    total = intquantity*intprice\n",
    "    grand_total = str(total)#converting to string\n",
    "    file.write(item[r1]+\",\"+quantity[r2]+\",\"+price[r3]+\"\\t Total = \"+grand_total+\"\\n\")\n",
    "file.close()\n",
    "with open(\"23122028.csv\",\"r+\") as file:\n",
    "    for i in range(5):  #pdisplay total cost in the first five rows\n",
    "        lines=file.readline()\n",
    "        print(lines)\n",
    "    for i in range(90,100): #last ten lines\n",
    "        lines=file.readline()\n",
    "        print(lines)\n",
    "\n",
    "\n",
    "\n",
    "\n",
    "    \n",
    "\n"
   ]
  },
  {
   "cell_type": "code",
   "execution_count": 22,
   "metadata": {},
   "outputs": [
    {
     "ename": "TypeError",
     "evalue": "'_io.TextIOWrapper' object is not callable",
     "output_type": "error",
     "traceback": [
      "\u001b[1;31m---------------------------------------------------------------------------\u001b[0m",
      "\u001b[1;31mTypeError\u001b[0m                                 Traceback (most recent call last)",
      "Cell \u001b[1;32mIn[22], line 4\u001b[0m\n\u001b[0;32m      1\u001b[0m \u001b[39m#total cost for each unique item\u001b[39;00m\n\u001b[0;32m      3\u001b[0m file\u001b[39m=\u001b[39m\u001b[39mopen\u001b[39m(\u001b[39m'\u001b[39m\u001b[39m23122028.csv\u001b[39m\u001b[39m'\u001b[39m,\u001b[39m\"\u001b[39m\u001b[39mr+\u001b[39m\u001b[39m\"\u001b[39m)\n\u001b[1;32m----> 4\u001b[0m \u001b[39mfor\u001b[39;00m line \u001b[39min\u001b[39;00m file():\n\u001b[0;32m      5\u001b[0m     \u001b[39mif\u001b[39;00m chips \u001b[39min\u001b[39;00m line:\n\u001b[0;32m      6\u001b[0m         lines\u001b[39m=\u001b[39mline\u001b[39m.\u001b[39msplit()\n",
      "\u001b[1;31mTypeError\u001b[0m: '_io.TextIOWrapper' object is not callable"
     ]
    }
   ],
   "source": [
    "#total cost for each unique item\n",
    "\n",
    "file=open('23122028.csv',\"r+\")\n",
    "for line in file():\n",
    "    if chips in line:\n",
    "        lines=line.split()\n",
    "print(lines)\n",
    "\n",
    "\n",
    "\n",
    "\n",
    "\n",
    "    \n",
    "\n",
    "    "
   ]
  },
  {
   "cell_type": "code",
   "execution_count": 16,
   "metadata": {},
   "outputs": [],
   "source": [
    "#minimum and maximum price of each item\n",
    "\n"
   ]
  }
 ],
 "metadata": {
  "kernelspec": {
   "display_name": "Python 3",
   "language": "python",
   "name": "python3"
  },
  "language_info": {
   "codemirror_mode": {
    "name": "ipython",
    "version": 3
   },
   "file_extension": ".py",
   "mimetype": "text/x-python",
   "name": "python",
   "nbconvert_exporter": "python",
   "pygments_lexer": "ipython3",
   "version": "3.11.1"
  },
  "orig_nbformat": 4
 },
 "nbformat": 4,
 "nbformat_minor": 2
}
