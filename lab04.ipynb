{
 "cells": [
  {
   "cell_type": "markdown",
   "metadata": {},
   "source": [
    "A Taste of Success: The Restaurant Management System\n",
    "\n",
    "In the heart of the bustling city of Lavasa was a charming little restaurant named \"Culinary Delights.\" Owned by a passionate chef named Chef Amelia, Culinary Delights was renowned for its mouthwatering dishes, warm ambience, and exceptional customer service.\n",
    "\n",
    "Chef Amelia had always dreamed of running her restaurant since she was a child. Her love for cooking led her to culinary school, where she honed her skills and developed her signature recipes. With hard work and determination, she finally opened Culinary Delights, a cosy place where people could savour her culinary creations.\n",
    "\n",
    "As Culinary Delights gained popularity, it faced a significant challenge – managing orders efficiently. Chef Amelia realised that she needed a robust Restaurant Management System (RMS) to maintain the restaurant's reputation.\n",
    "\n",
    "Chef Amelia would like to hire you as a team lead for the talented software developers Mark, Sarah, and David she already has. Together, you will create an advanced RMS that will revolutionise Culinary Delights.\n",
    "\n",
    "The software Chef Amelia is looking for is straightforward and has to store the orders in a file the restaurant gets from its customers.\n",
    "\n",
    "As a data analyst specialist, gather insights from the orders that Your hotel Culinary Delights received from their customer over time and display it to Chef Amelia as she uses your Software Application."
   ]
  },
  {
   "cell_type": "code",
   "execution_count": 36,
   "metadata": {},
   "outputs": [
    {
     "name": "stdout",
     "output_type": "stream",
     "text": [
      "MENUE\n",
      "{1: {'item': 'piza', 'rate': '50'}, 2: {'item': 'burger', 'rate': '100'}}\n",
      "{'item': 'piza', 'rate': '50'}\n",
      "['1', '2', '82171']\n"
     ]
    }
   ],
   "source": [
    "\n",
    "print(\"MENUE\")\n",
    "\n",
    "menue={\n",
    "    1:{\n",
    "    \"item\":\"piza\",\n",
    "    \"rate\":\"50\"\n",
    "    },\n",
    "    2:{\n",
    "        \"item\":\"burger\",\n",
    "        \"rate\":\"100\"\n",
    "    }\n",
    "        \n",
    "    }\n",
    "print(menue)\n",
    "\n",
    "import random\n",
    "def orderid():\n",
    "    orderid=''\n",
    "    for i in range(0,5,1):\n",
    "        orderid=orderid+str(random.randint(1,9))\n",
    "    return orderid\n",
    "    \n",
    "def collectOrders():\n",
    "    global quantity\n",
    "    global itemno\n",
    "    orders={}\n",
    "    n=int(input(\"enter the nuber of orders\"))\n",
    "    for i in range(n):\n",
    "        itemno=input(\"enter the item number\")\n",
    "        quantity=input(\"enter the quantity\")\n",
    "        if itemno==\"1\":\n",
    "           print(menue[1])\n",
    "        elif itemno ==\"2\":\n",
    "           print(menue[2])\n",
    "    \n",
    "           \n",
    "        \n",
    "        \n",
    "def readFile():\n",
    "    file=open(\"rest.csv\",\"w+\")\n",
    "    file.write(itemno+\",\"+str(quantity)+\",\"+str(orderid())+\"\\n\")\n",
    "\n",
    "    file=open(\"rest.csv\",\"r+\")\n",
    "    read=file.readlines()\n",
    "    for i in read:\n",
    "        line=i.strip().split(\",\")\n",
    "        #for  j in line:\n",
    "        print(line)\n",
    "        \n",
    "           \n",
    "    #print(line[0].strip(),line[1].strip(),line[2].strip())\n",
    "\n",
    "    #print(read)\n",
    "    def billingOrders():\n",
    "       total=0\n",
    "       \n",
    "       \n",
    "collectOrders()\n",
    "readFile()\n",
    "\n",
    "\n"
   ]
  },
  {
   "cell_type": "code",
   "execution_count": 2,
   "metadata": {},
   "outputs": [
    {
     "ename": "TypeError",
     "evalue": "orderDetails() missing 5 required positional arguments: 'order', 'id', 'guestcount', 'item', and 'Bill'",
     "output_type": "error",
     "traceback": [
      "\u001b[1;31m---------------------------------------------------------------------------\u001b[0m",
      "\u001b[1;31mTypeError\u001b[0m                                 Traceback (most recent call last)",
      "\u001b[1;32md:\\CHRIST\\MScDSA-MDS171-23122028-RIYA\\lab04.ipynb Cell 2\u001b[0m line \u001b[0;36m1\n\u001b[0;32m     <a href='vscode-notebook-cell:/d%3A/CHRIST/MScDSA-MDS171-23122028-RIYA/lab04.ipynb#W1sZmlsZQ%3D%3D?line=14'>15</a>\u001b[0m guestcount \u001b[39m=\u001b[39m \u001b[39minput\u001b[39m(\u001b[39m\"\u001b[39m\u001b[39mEnter the GuestCount: \u001b[39m\u001b[39m\"\u001b[39m)\n\u001b[0;32m     <a href='vscode-notebook-cell:/d%3A/CHRIST/MScDSA-MDS171-23122028-RIYA/lab04.ipynb#W1sZmlsZQ%3D%3D?line=15'>16</a>\u001b[0m item \u001b[39m=\u001b[39m \u001b[39minput\u001b[39m(\u001b[39m\"\u001b[39m\u001b[39mEnter the Item: \u001b[39m\u001b[39m\"\u001b[39m)\n\u001b[1;32m---> <a href='vscode-notebook-cell:/d%3A/CHRIST/MScDSA-MDS171-23122028-RIYA/lab04.ipynb#W1sZmlsZQ%3D%3D?line=17'>18</a>\u001b[0m orderDetails()\n\u001b[0;32m     <a href='vscode-notebook-cell:/d%3A/CHRIST/MScDSA-MDS171-23122028-RIYA/lab04.ipynb#W1sZmlsZQ%3D%3D?line=18'>19</a>\u001b[0m \u001b[39m# if item==\"pizza\":\u001b[39;00m\n\u001b[0;32m     <a href='vscode-notebook-cell:/d%3A/CHRIST/MScDSA-MDS171-23122028-RIYA/lab04.ipynb#W1sZmlsZQ%3D%3D?line=19'>20</a>\u001b[0m \u001b[39m#     BillAmount = 90\u001b[39;00m\n\u001b[0;32m     <a href='vscode-notebook-cell:/d%3A/CHRIST/MScDSA-MDS171-23122028-RIYA/lab04.ipynb#W1sZmlsZQ%3D%3D?line=20'>21</a>\u001b[0m \u001b[39m#     print(BillAmount)\u001b[39;00m\n\u001b[1;32m   (...)\u001b[0m\n\u001b[0;32m     <a href='vscode-notebook-cell:/d%3A/CHRIST/MScDSA-MDS171-23122028-RIYA/lab04.ipynb#W1sZmlsZQ%3D%3D?line=34'>35</a>\u001b[0m \u001b[39m# else:\u001b[39;00m\n\u001b[0;32m     <a href='vscode-notebook-cell:/d%3A/CHRIST/MScDSA-MDS171-23122028-RIYA/lab04.ipynb#W1sZmlsZQ%3D%3D?line=35'>36</a>\u001b[0m \u001b[39m#     print(\"Enter the Valid Input\")\u001b[39;00m\n\u001b[0;32m     <a href='vscode-notebook-cell:/d%3A/CHRIST/MScDSA-MDS171-23122028-RIYA/lab04.ipynb#W1sZmlsZQ%3D%3D?line=40'>41</a>\u001b[0m orderDetails(order,\u001b[39mid\u001b[39m,guestcount,item,BillAmount)\n",
      "\u001b[1;31mTypeError\u001b[0m: orderDetails() missing 5 required positional arguments: 'order', 'id', 'guestcount', 'item', and 'Bill'"
     ]
    }
   ],
   "source": [
    "def orderDetails(order,id,guestcount, item, Bill):\n",
    "    fileorderDetails = open(\"Restaurant Management System\"+\".txt\",\"a+\")\n",
    "    fileorderDetails.write(\"\\n--------------------------------------------------------------------------------------------------------\")\n",
    "    fileorderDetails.write(\"\\nOrder\\t:\\t\"+order)\n",
    "    fileorderDetails.write(\"\\nid\\t:\\t\"+id)\n",
    "    fileorderDetails.write(\"\\nGuestCount\\t:\\t\"+guestcount)\n",
    "    fileorderDetails.write(\"\\nItem\\t:\\t\"+item)\n",
    "    fileorderDetails.write(\"\\nBillAmount\\t:\\t\"+str(BillAmount))\n",
    "    fileorderDetails.write(\"\\n-\"*10)\n",
    "    fileorderDetails.close()\n",
    "    return True\n",
    "\n",
    "order = input(\"Enter You Order: \")\n",
    "id = input(\"Enter you id: \")\n",
    "guestcount = input(\"Enter the GuestCount: \")\n",
    "item = input(\"Enter the Item: \")\n",
    "\n",
    "orderDetails()\n",
    "# if item==\"pizza\":\n",
    "#     BillAmount = 90\n",
    "#     print(BillAmount)\n",
    "# elif item == \"Pasta\":\n",
    "#     BillAmount = 170\n",
    "#     print(BillAmount)\n",
    "# elif item == \"Majboos\":\n",
    "#     BillAmount = 350\n",
    "#     print(BillAmount)\n",
    "# elif item == \"egg Curry with Chapathi \":\n",
    "#     BillAmount = 70\n",
    "#     print(BillAmount)\n",
    "# elif item == \"thalli\":\n",
    "#     BillAmount = 100\n",
    "#     print(BillAmount)\n",
    "    \n",
    "# else:\n",
    "#     print(\"Enter the Valid Input\")\n",
    "\n",
    "\n",
    " \n",
    "\n",
    "orderDetails(order,id,guestcount,item,BillAmount)\n",
    "\n",
    "\n",
    "\n",
    "\n",
    "\n",
    "\n",
    "\n",
    "\n",
    "\n",
    "\n",
    "\n"
   ]
  },
  {
   "cell_type": "code",
   "execution_count": 13,
   "metadata": {},
   "outputs": [
    {
     "name": "stdout",
     "output_type": "stream",
     "text": [
      "The Total Business or the total is: 280\n"
     ]
    }
   ],
   "source": [
    "total = 0 # Initialize a variable to store the total guest count\n",
    "\n",
    "with open(\"Restaurant Management System.txt\", \"r\") as fileMyDetails:\n",
    "    for line in fileMyDetails:\n",
    "        if \"BillAmount\" in line:\n",
    "            # Extract the guest count from the line and add it to the total\n",
    "            salecount = int(line.split(\":\")[1].strip())\n",
    "            total += salecount\n",
    "        \n",
    "\n",
    "\n",
    "# Print the total guest count\n",
    "print(\"The Total Business or the total is:\",total)"
   ]
  },
  {
   "cell_type": "code",
   "execution_count": 14,
   "metadata": {},
   "outputs": [
    {
     "name": "stdout",
     "output_type": "stream",
     "text": [
      "The Total Guest Count is:  7\n"
     ]
    }
   ],
   "source": [
    "# Initialize a variable to store the total guest count\n",
    "\n",
    "total_guest_count = 0\n",
    "\n",
    "with open(\"Restaurant Management System.txt\", \"r\") as fileMyDetails:\n",
    "    for line in fileMyDetails:\n",
    "        if \"GuestCount\" in line:\n",
    "           \n",
    "            guest_count = int(line.split(\":\")[1].strip())\n",
    "            total_guest_count += guest_count\n",
    "       \n",
    "\n",
    "\n",
    "print(\"The Total Guest Count is: \",total_guest_count)"
   ]
  }
 ],
 "metadata": {
  "kernelspec": {
   "display_name": "Python 3",
   "language": "python",
   "name": "python3"
  },
  "language_info": {
   "codemirror_mode": {
    "name": "ipython",
    "version": 3
   },
   "file_extension": ".py",
   "mimetype": "text/x-python",
   "name": "python",
   "nbconvert_exporter": "python",
   "pygments_lexer": "ipython3",
   "version": "3.11.5"
  },
  "orig_nbformat": 4
 },
 "nbformat": 4,
 "nbformat_minor": 2
}
