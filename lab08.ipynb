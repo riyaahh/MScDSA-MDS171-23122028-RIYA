{
 "cells": [
  {
   "cell_type": "markdown",
   "metadata": {},
   "source": [
    "Matrix Multiplication\n",
    "\n",
    "Jeeva, a mathematical expert, is looking for an expert in programming who can assist him in creating a Python program for Matrix Multiplication.\n",
    "\n",
    "His program has specific requirements.\n",
    "\n",
    "The matrices have to be saved inside a dictionary.\n",
    "The keys allowed in the dictionary are [matrix 1, matrix 2, result matrix]\n",
    "The values for the elements in the rows of the matrix have to be saved in the form of a list of lists [[row1][row2]].\n",
    "You must have functions for collecting the matrix and store in the dictionary.\n",
    "Another function to Process the matrix and store it in the dictionary. \n",
    "Another function to Display the result in a file, properly formatted.\n",
    "Menu option to show enter matrix 1, matrix 2, calculate, export to file. If the matrix has been entered, then it should take confirmation from the user before taking the input for matrix 1 or 2 again."
   ]
  },
  {
   "cell_type": "code",
   "execution_count": 19,
   "metadata": {},
   "outputs": [
    {
     "ename": "SyntaxError",
     "evalue": "incomplete input (2300843384.py, line 31)",
     "output_type": "error",
     "traceback": [
      "\u001b[1;36m  Cell \u001b[1;32mIn[19], line 31\u001b[1;36m\u001b[0m\n\u001b[1;33m    \u001b[0m\n\u001b[1;37m    ^\u001b[0m\n\u001b[1;31mSyntaxError\u001b[0m\u001b[1;31m:\u001b[0m incomplete input\n"
     ]
    }
   ],
   "source": [
    "matrices={\n",
    "    \"matrix1\":[],\n",
    "    \"matrix2\":[],\n",
    "    \"result\":[]\n",
    "}\n",
    "a=int(input(\"enter the number of rows in matrix1\"))\n",
    "b=int(input(\"enter the number of columns in matrix 1\"))\n",
    "c=int(input(\"enter the number of rows in matrix2\"))\n",
    "d=int(input(\"enter the number of columns in matrix2\"))\n",
    "if a==c and b==d:\n",
    "    print(\"multiplication is possible\")\n",
    "else:\n",
    "    print(\"invalid input\")\n",
    "def accpet_matix():\n",
    "    for i in range(a):\n",
    "        for j in range(b):\n",
    "            print()\n",
    "\n",
    "def cal_matrix():\n",
    "    \n",
    "\n",
    "\n",
    "\n",
    "print(\"enter your choice\")\n",
    "print(\"1. add matrix1\")\n",
    "print(\"2.add matrix2\")\n",
    "print(\"3.calculate\")\n",
    "print(\"4.export to file\")\n",
    "\n",
    "choice=input(\"enter your choice\")\n",
    "\n",
    "if choice==1:\n",
    "\n",
    "\n"
   ]
  },
  {
   "cell_type": "code",
   "execution_count": null,
   "metadata": {},
   "outputs": [],
   "source": []
  }
 ],
 "metadata": {
  "kernelspec": {
   "display_name": "Python 3",
   "language": "python",
   "name": "python3"
  },
  "language_info": {
   "codemirror_mode": {
    "name": "ipython",
    "version": 3
   },
   "file_extension": ".py",
   "mimetype": "text/x-python",
   "name": "python",
   "nbconvert_exporter": "python",
   "pygments_lexer": "ipython3",
   "version": "3.11.5"
  },
  "orig_nbformat": 4
 },
 "nbformat": 4,
 "nbformat_minor": 2
}
