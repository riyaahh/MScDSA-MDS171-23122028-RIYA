{
 "cells": [
  {
   "cell_type": "markdown",
   "metadata": {},
   "source": [
    "Vowel Counter!\n",
    "\n",
    "Write a program for collecting a string from the user and counting the number of vowels.\n",
    "\n",
    "Print the total count of vowels\n",
    "Print each vowel and its count\n",
    "Calculate the percentage of vowels in the given string\n",
    "Make use of functions and format your output accordingly\n",
    "\n",
    "Note:\n",
    "File Name Lab 06.ipynb\n",
    "Submit the code file and the GitHub URL\n"
   ]
  },
  {
   "cell_type": "code",
   "execution_count": 167,
   "metadata": {},
   "outputs": [],
   "source": [
    "def vowels_a():\n",
    "    vowels=[\"a\",\"e\",\"i\",\"o\",\"u\"]\n",
    "    a=input(\"enter the string:\")\n",
    "    print(a)\n",
    "    totalcount=0\n",
    "    counta=0\n",
    "    counte=0\n",
    "    counti=0\n",
    "    counto=0\n",
    "    countu=0\n",
    "    for  i in a:\n",
    "            if i=='a':\n",
    "             counta=counta+1 \n",
    "            elif i=='e':\n",
    "             counte=counte+1 \n",
    "            elif i=='i':\n",
    "             counti=counti+1 \n",
    "            elif i=='o':\n",
    "             counto=counto+1 \n",
    "            elif i=='u':\n",
    "             countu=countu+1 \n",
    "            else:\n",
    "              pass \n",
    "    print(\"vowel is\",'a',\"with  count\",counta)\n",
    "    print(\"vowel is\",'e',\"with count\",counte)\n",
    "    print(\"vowel is\",'i',\"with count\",counti)\n",
    "    print(\"vowel is\",'o',\"with count\",counto)\n",
    "    print(\"vowel is\",'u',\"with  count\",countu)\n",
    "\n",
    "\n",
    "    totalcount=counta+counte+counti+counto+countu        \n",
    "    print(\"the total count of vowels is\",totalcount)        \n",
    "    percentage=(totalcount*100)/len(a)\n",
    "    print(\"percentage=\",percentage)\n",
    "\n",
    "\n"
   ]
  },
  {
   "cell_type": "code",
   "execution_count": 168,
   "metadata": {},
   "outputs": [
    {
     "name": "stdout",
     "output_type": "stream",
     "text": [
      "helloo this is the result\n",
      "vowel is a with  count 0\n",
      "vowel is e with count 3\n",
      "vowel is i with count 2\n",
      "vowel is o with count 2\n",
      "vowel is u with  count 1\n",
      "the total count of vowels is 8\n",
      "percentage= 32.0\n"
     ]
    }
   ],
   "source": [
    "vowels_a()\n"
   ]
  },
  {
   "cell_type": "code",
   "execution_count": 169,
   "metadata": {},
   "outputs": [
    {
     "name": "stdout",
     "output_type": "stream",
     "text": [
      "sooo happy\n",
      "vowel is a with  count 1\n",
      "vowel is e with count 0\n",
      "vowel is i with count 0\n",
      "vowel is o with count 3\n",
      "vowel is u with  count 0\n",
      "the total count of vowels is 4\n",
      "percentage= 40.0\n"
     ]
    }
   ],
   "source": [
    "vowels_a()\n"
   ]
  },
  {
   "cell_type": "code",
   "execution_count": 170,
   "metadata": {},
   "outputs": [
    {
     "name": "stdout",
     "output_type": "stream",
     "text": [
      "thankyouuuuuuu\n",
      "vowel is a with  count 1\n",
      "vowel is e with count 0\n",
      "vowel is i with count 0\n",
      "vowel is o with count 1\n",
      "vowel is u with  count 7\n",
      "the total count of vowels is 9\n",
      "percentage= 64.28571428571429\n"
     ]
    }
   ],
   "source": [
    "vowels_a()\n"
   ]
  }
 ],
 "metadata": {
  "kernelspec": {
   "display_name": "Python 3",
   "language": "python",
   "name": "python3"
  },
  "language_info": {
   "codemirror_mode": {
    "name": "ipython",
    "version": 3
   },
   "file_extension": ".py",
   "mimetype": "text/x-python",
   "name": "python",
   "nbconvert_exporter": "python",
   "pygments_lexer": "ipython3",
   "version": "3.11.5"
  },
  "orig_nbformat": 4
 },
 "nbformat": 4,
 "nbformat_minor": 2
}
