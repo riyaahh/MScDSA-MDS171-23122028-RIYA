{
 "cells": [
  {
   "cell_type": "markdown",
   "metadata": {},
   "source": [
    "#get details of students ,check if reg no already exist if exist replace all the details with a new one\n",
    "#search using register number and print all the details\n",
    "\n"
   ]
  },
  {
   "cell_type": "code",
   "execution_count": 42,
   "metadata": {},
   "outputs": [
    {
     "name": "stdout",
     "output_type": "stream",
     "text": [
      "5\n"
     ]
    }
   ],
   "source": [
    "n=int(input(\"enter the number which you need to find the square root\"))\n",
    "for i in range(n):\n",
    "    if i*i==n:\n",
    "        print(i)"
   ]
  },
  {
   "cell_type": "code",
   "execution_count": 40,
   "metadata": {},
   "outputs": [
    {
     "name": "stdout",
     "output_type": "stream",
     "text": [
      "{'23122028': {'name': 'riya', 'age': '22'}, '23122027': {'name': 'sukku', 'age': '20'}}\n",
      "{'23122028': {'name': 'riya', 'age': '22'}, '23122027': {'name': 'sukku', 'age': '20'}, '23122085': {'name': 'devu', 'age': '20'}}\n"
     ]
    }
   ],
   "source": [
    "dict={\n",
    "    \"23122028\":{\n",
    "        \"name\":\"riya\",\n",
    "        \"age\":\"22\"\n",
    "    },\n",
    "    \n",
    "       \"23122027\":{\n",
    "            \"name\":\"sukku\",\n",
    "            \"age\":\"20\"\n",
    "        }\n",
    "\n",
    "    }\n",
    "print(dict)\n",
    "\n",
    "reg= input(\"enter the register number\")\n",
    "if reg in dict.keys():\n",
    "    name=input(\"enter the name\")\n",
    "    age=input(\"enter the age\")\n",
    "\n",
    "    dict[reg][\"name\"]=name\n",
    "    dict[reg][\"age\"]=age\n",
    "\n",
    "    print(dict)\n",
    "\n",
    "else:\n",
    "    name=input(\"enter the name\")\n",
    "    age=input(\"enter the age\")\n",
    "    new={\n",
    "\n",
    "    reg:{\n",
    "\n",
    "        \"name\":name,\n",
    "        \"age\":age\n",
    "    }\n",
    "    }\n",
    "    \n",
    "    dict.update(new)\n",
    "    print(dict)\n",
    "\n",
    "\n"
   ]
  }
 ],
 "metadata": {
  "kernelspec": {
   "display_name": "Python 3",
   "language": "python",
   "name": "python3"
  },
  "language_info": {
   "codemirror_mode": {
    "name": "ipython",
    "version": 3
   },
   "file_extension": ".py",
   "mimetype": "text/x-python",
   "name": "python",
   "nbconvert_exporter": "python",
   "pygments_lexer": "ipython3",
   "version": "3.11.5"
  }
 },
 "nbformat": 4,
 "nbformat_minor": 2
}
