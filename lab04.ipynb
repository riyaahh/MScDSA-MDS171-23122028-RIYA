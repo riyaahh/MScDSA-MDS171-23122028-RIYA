{
 "cells": [
  {
   "cell_type": "markdown",
   "metadata": {},
   "source": [
    "A Taste of Success: The Restaurant Management System\n",
    "\n",
    "In the heart of the bustling city of Lavasa was a charming little restaurant named \"Culinary Delights.\" Owned by a passionate chef named Chef Amelia, Culinary Delights was renowned for its mouthwatering dishes, warm ambience, and exceptional customer service.\n",
    "\n",
    "Chef Amelia had always dreamed of running her restaurant since she was a child. Her love for cooking led her to culinary school, where she honed her skills and developed her signature recipes. With hard work and determination, she finally opened Culinary Delights, a cosy place where people could savour her culinary creations.\n",
    "\n",
    "As Culinary Delights gained popularity, it faced a significant challenge – managing orders efficiently. Chef Amelia realised that she needed a robust Restaurant Management System (RMS) to maintain the restaurant's reputation.\n",
    "\n",
    "Chef Amelia would like to hire you as a team lead for the talented software developers Mark, Sarah, and David she already has. Together, you will create an advanced RMS that will revolutionise Culinary Delights.\n",
    "\n",
    "The software Chef Amelia is looking for is straightforward and has to store the orders in a file the restaurant gets from its customers.\n",
    "\n",
    "As a data analyst specialist, gather insights from the orders that Your hotel Culinary Delights received from their customer over time and display it to Chef Amelia as she uses your Software Application."
   ]
  },
  {
   "cell_type": "code",
   "execution_count": 12,
   "metadata": {},
   "outputs": [
    {
     "name": "stdout",
     "output_type": "stream",
     "text": [
      "100\n"
     ]
    },
    {
     "data": {
      "text/plain": [
       "True"
      ]
     },
     "execution_count": 12,
     "metadata": {},
     "output_type": "execute_result"
    }
   ],
   "source": [
    "def orderDetails(order,id,guestcount, item, Bill):\n",
    "    fileorderDetails = open(\"Restaurant Management System\"+\".txt\",\"a+\")\n",
    "    fileorderDetails.write(\"\\n--------------------------------------------------------------------------------------------------------\")\n",
    "    fileorderDetails.write(\"\\nOrder\\t:\\t\"+order)\n",
    "    fileorderDetails.write(\"\\nid\\t:\\t\"+id)\n",
    "    fileorderDetails.write(\"\\nGuestCount\\t:\\t\"+guestcount)\n",
    "    fileorderDetails.write(\"\\nItem\\t:\\t\"+item)\n",
    "    fileorderDetails.write(\"\\nBillAmount\\t:\\t\"+str(BillAmount))\n",
    "    fileorderDetails.write(\"\\n-\"*10)\n",
    "    fileorderDetails.close()\n",
    "    return True\n",
    "\n",
    "order = input(\"Enter You Order: \")\n",
    "id = input(\"Enter you id: \")\n",
    "guestcount = input(\"Enter the GuestCount: \")\n",
    "item = input(\"Enter the Item: \")\n",
    "if item==\"pizza\":\n",
    "    BillAmount = 90\n",
    "    print(BillAmount)\n",
    "elif item == \"Pasta\":\n",
    "    BillAmount = 170\n",
    "    print(BillAmount)\n",
    "elif item == \"Majboos\":\n",
    "    BillAmount = 350\n",
    "    print(BillAmount)\n",
    "elif item == \"egg Curry with Chapathi \":\n",
    "    BillAmount = 70\n",
    "    print(BillAmount)\n",
    "elif item == \"thalli\":\n",
    "    BillAmount = 100\n",
    "    print(BillAmount)\n",
    "    \n",
    "else:\n",
    "    print(\"Enter the Valid Input\")\n",
    "\n",
    "\n",
    " \n",
    "\n",
    "orderDetails(order,id,guestcount,item,BillAmount)\n",
    "\n",
    "\n",
    "\n",
    "\n",
    "\n",
    "\n",
    "\n",
    "\n",
    "\n",
    "\n",
    "\n"
   ]
  },
  {
   "cell_type": "code",
   "execution_count": 13,
   "metadata": {},
   "outputs": [
    {
     "name": "stdout",
     "output_type": "stream",
     "text": [
      "The Total Business or the total is: 280\n"
     ]
    }
   ],
   "source": [
    "total = 0 # Initialize a variable to store the total guest count\n",
    "\n",
    "with open(\"Restaurant Management System.txt\", \"r\") as fileMyDetails:\n",
    "    for line in fileMyDetails:\n",
    "        if \"BillAmount\" in line:\n",
    "            # Extract the guest count from the line and add it to the total\n",
    "            salecount = int(line.split(\":\")[1].strip())\n",
    "            total += salecount\n",
    "        \n",
    "\n",
    "\n",
    "# Print the total guest count\n",
    "print(\"The Total Business or the total is:\",total)"
   ]
  },
  {
   "cell_type": "code",
   "execution_count": 14,
   "metadata": {},
   "outputs": [
    {
     "name": "stdout",
     "output_type": "stream",
     "text": [
      "The Total Guest Count is:  7\n"
     ]
    }
   ],
   "source": [
    "# Initialize a variable to store the total guest count\n",
    "\n",
    "total_guest_count = 0\n",
    "\n",
    "with open(\"Restaurant Management System.txt\", \"r\") as fileMyDetails:\n",
    "    for line in fileMyDetails:\n",
    "        if \"GuestCount\" in line:\n",
    "           \n",
    "            guest_count = int(line.split(\":\")[1].strip())\n",
    "            total_guest_count += guest_count\n",
    "       \n",
    "\n",
    "\n",
    "print(\"The Total Guest Count is: \",total_guest_count)"
   ]
  }
 ],
 "metadata": {
  "kernelspec": {
   "display_name": "Python 3",
   "language": "python",
   "name": "python3"
  },
  "language_info": {
   "codemirror_mode": {
    "name": "ipython",
    "version": 3
   },
   "file_extension": ".py",
   "mimetype": "text/x-python",
   "name": "python",
   "nbconvert_exporter": "python",
   "pygments_lexer": "ipython3",
   "version": "3.11.5"
  },
  "orig_nbformat": 4
 },
 "nbformat": 4,
 "nbformat_minor": 2
}
