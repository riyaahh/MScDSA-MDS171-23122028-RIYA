{
 "cells": [
  {
   "cell_type": "markdown",
   "metadata": {},
   "source": [
    "load a csv and set new column names\n",
    "rename colunmn names(1 column,mutiple columns)\n",
    "load a dats set set one column as index column \n",
    "split your data intp multiple files with respect to rows and columns load the different files to find file"
   ]
  },
  {
   "cell_type": "code",
   "execution_count": 1,
   "metadata": {},
   "outputs": [],
   "source": [
    "import pandas as pd"
   ]
  },
  {
   "cell_type": "code",
   "execution_count": 5,
   "metadata": {},
   "outputs": [
    {
     "name": "stdout",
     "output_type": "stream",
     "text": [
      "['orderid', 'item', 'quantity']\n",
      "['1', 'snickers', '2']\n",
      "['2', 'kitkat', '3']\n",
      "['45', 'bag', '4']\n",
      "['89', 'snickers', '1']\n",
      "['25', 'milkibar', '2']\n",
      "['14', 'polo', '1']\n",
      "['3', 'shorts', '1']\n",
      "['85', 'A4 sheetss', '5']\n"
     ]
    },
    {
     "ename": "TypeError",
     "evalue": "'str' object is not callable",
     "output_type": "error",
     "traceback": [
      "\u001b[1;31m---------------------------------------------------------------------------\u001b[0m",
      "\u001b[1;31mTypeError\u001b[0m                                 Traceback (most recent call last)",
      "\u001b[1;32md:\\CHRIST\\sem 1\\Python\\combineclass.ipynb\\task.ipynb Cell 3\u001b[0m line \u001b[0;36m2\n\u001b[0;32m     <a href='vscode-notebook-cell:/d%3A/CHRIST/sem%201/Python/combineclass.ipynb/task.ipynb#W2sZmlsZQ%3D%3D?line=21'>22</a>\u001b[0m     dict1:[orderid]\u001b[39m=\u001b[39m{\n\u001b[0;32m     <a href='vscode-notebook-cell:/d%3A/CHRIST/sem%201/Python/combineclass.ipynb/task.ipynb#W2sZmlsZQ%3D%3D?line=22'>23</a>\u001b[0m     \u001b[39m\"\u001b[39m\u001b[39morderid\u001b[39m\u001b[39m\"\u001b[39m:orderid,\n\u001b[0;32m     <a href='vscode-notebook-cell:/d%3A/CHRIST/sem%201/Python/combineclass.ipynb/task.ipynb#W2sZmlsZQ%3D%3D?line=23'>24</a>\u001b[0m     \u001b[39m\"\u001b[39m\u001b[39mitem\u001b[39m\u001b[39m\"\u001b[39m:item,\n\u001b[0;32m     <a href='vscode-notebook-cell:/d%3A/CHRIST/sem%201/Python/combineclass.ipynb/task.ipynb#W2sZmlsZQ%3D%3D?line=24'>25</a>\u001b[0m     \u001b[39m\"\u001b[39m\u001b[39mquantity\u001b[39m\u001b[39m\"\u001b[39m:quantity\n\u001b[0;32m     <a href='vscode-notebook-cell:/d%3A/CHRIST/sem%201/Python/combineclass.ipynb/task.ipynb#W2sZmlsZQ%3D%3D?line=25'>26</a>\u001b[0m     }\n\u001b[0;32m     <a href='vscode-notebook-cell:/d%3A/CHRIST/sem%201/Python/combineclass.ipynb/task.ipynb#W2sZmlsZQ%3D%3D?line=26'>27</a>\u001b[0m     \u001b[39mprint\u001b[39m(\u001b[39mdict\u001b[39m\u001b[39m.\u001b[39mupdate(dict1))\n\u001b[1;32m---> <a href='vscode-notebook-cell:/d%3A/CHRIST/sem%201/Python/combineclass.ipynb/task.ipynb#W2sZmlsZQ%3D%3D?line=28'>29</a>\u001b[0m itemList(\u001b[39m\"\u001b[39;49m\u001b[39morderid\u001b[39;49m\u001b[39m\"\u001b[39;49m,\u001b[39m\"\u001b[39;49m\u001b[39mitem\u001b[39;49m\u001b[39m\"\u001b[39;49m,\u001b[39m\"\u001b[39;49m\u001b[39mquantity\u001b[39;49m\u001b[39m\"\u001b[39;49m)\n",
      "\u001b[1;32md:\\CHRIST\\sem 1\\Python\\combineclass.ipynb\\task.ipynb Cell 3\u001b[0m line \u001b[0;36m1\n\u001b[0;32m     <a href='vscode-notebook-cell:/d%3A/CHRIST/sem%201/Python/combineclass.ipynb/task.ipynb#W2sZmlsZQ%3D%3D?line=17'>18</a>\u001b[0m \u001b[39mdef\u001b[39;00m \u001b[39mitemList\u001b[39m(orderid,item,quantity):\n\u001b[1;32m---> <a href='vscode-notebook-cell:/d%3A/CHRIST/sem%201/Python/combineclass.ipynb/task.ipynb#W2sZmlsZQ%3D%3D?line=18'>19</a>\u001b[0m     orderid\u001b[39m=\u001b[39morderid()\n\u001b[0;32m     <a href='vscode-notebook-cell:/d%3A/CHRIST/sem%201/Python/combineclass.ipynb/task.ipynb#W2sZmlsZQ%3D%3D?line=19'>20</a>\u001b[0m     item\u001b[39m=\u001b[39m\u001b[39minput\u001b[39m(\u001b[39m\"\u001b[39m\u001b[39menter the item\u001b[39m\u001b[39m\"\u001b[39m)\n\u001b[0;32m     <a href='vscode-notebook-cell:/d%3A/CHRIST/sem%201/Python/combineclass.ipynb/task.ipynb#W2sZmlsZQ%3D%3D?line=20'>21</a>\u001b[0m     quantity\u001b[39m=\u001b[39m\u001b[39mint\u001b[39m(\u001b[39minput\u001b[39m(\u001b[39m\"\u001b[39m\u001b[39menter the quan\u001b[39m\u001b[39m\"\u001b[39m))\n",
      "\u001b[1;31mTypeError\u001b[0m: 'str' object is not callable"
     ]
    }
   ],
   "source": [
    "import random\n",
    "file=open(\"orders.csv\",\"r+\")\n",
    "file=file.readlines()\n",
    "dict={}\n",
    "orderid=1\n",
    "for line in file:\n",
    "    \n",
    "    z=line.strip().split(\",\")\n",
    "    print(z)\n",
    "\n",
    "def orderId():\n",
    "    global orderid\n",
    "    orderid=\"\"\n",
    "    for i in range(1,5):\n",
    "\n",
    "        orderid=orderid+random.randint(1,9)\n",
    "    return orderid\n",
    "def itemList(orderid,item,quantity):\n",
    "    orderid=orderid()\n",
    "    item=input(\"enter the item\")\n",
    "    quantity=int(input(\"enter the quan\"))\n",
    "    dict1:[orderid]={\n",
    "    \"orderid\":orderid,\n",
    "    \"item\":item,\n",
    "    \"quantity\":quantity\n",
    "    }\n",
    "    print(dict.update(dict1))\n",
    "\n",
    "itemList(\"orderid\",\"item\",\"quantity\")\n",
    "\n"
   ]
  },
  {
   "cell_type": "code",
   "execution_count": null,
   "metadata": {},
   "outputs": [],
   "source": [
    "dict[orderid]=line\n",
    "    orderid=orderid+1\n",
    "\n",
    "print(dict)"
   ]
  }
 ],
 "metadata": {
  "kernelspec": {
   "display_name": "Python 3",
   "language": "python",
   "name": "python3"
  },
  "language_info": {
   "codemirror_mode": {
    "name": "ipython",
    "version": 3
   },
   "file_extension": ".py",
   "mimetype": "text/x-python",
   "name": "python",
   "nbconvert_exporter": "python",
   "pygments_lexer": "ipython3",
   "version": "3.11.5"
  }
 },
 "nbformat": 4,
 "nbformat_minor": 2
}
