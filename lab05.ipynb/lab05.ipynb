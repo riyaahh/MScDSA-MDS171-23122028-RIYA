{
 "cells": [
  {
   "cell_type": "markdown",
   "metadata": {},
   "source": [
    "Mix & Match Calculator\n",
    "\n",
    "Create Lists for [Item, Quantity, Price] with 10 random values of your choice.\n",
    "The item list can be of any category of your choice [Food Items, Grocery Items,...] or anything you choose that can be bought.\n",
    "\n",
    "Prepare a CSV file with combinations of these values with the help of random index & looping statements and other control structures we discussed in class.\n",
    "\n",
    "To get a random index or number to access items from the list, you can use the following:\n",
    "random is a library in Python that can be used to generate random numbers.\n",
    "\n",
    "import random # Importing the external library\n",
    "r1 = random.randint(0, 10) # Generating the random number from the range and store it in r1 variable\n",
    "\n",
    "More details of the Random library usage can be found here.\n",
    "\n",
    "Your CSV file should have a minimum of 100 rows created randomly with the data in the list and the random library.\n",
    "Each row in the CSV file will have (item, Quantity, and UnitPrice).\n",
    "\n",
    "After preparing the CSV with Python code, you need to compute\n",
    "The total cost for each row, display the result from the first 5 rows and the last 10 rows\n",
    "Calculate the total cost for each unique item in the dataset.\n",
    "Item Name | Total Quantity | Total\n",
    "Print the minimum & maximum price for each item sold\n",
    "Note:\n",
    "Create a folder Lab 05.\n",
    "Inside the folder, you will have Lab 05.ipynb and the CSV file will have your name as the filename.\n",
    "Submit the CSV file and IPYNB file in Moodle, and Update the same in GitHub and Submit the link in the text area provided."
   ]
  },
  {
   "cell_type": "code",
   "execution_count": 22,
   "metadata": {},
   "outputs": [
    {
     "name": "stdout",
     "output_type": "stream",
     "text": [
      "[50, 600, 200, 180, 480, 360, 640, 160, 360, 300, 90, 350, 268, 540, 34, 270, 80, 100, 201, 60, 180, 150, 150, 536, 80, 720, 135, 135, 800, 315, 80, 240, 180, 134, 720, 272, 150, 180, 68, 536, 20, 720, 250, 134, 60, 360, 536, 40, 180, 134, 300, 360, 150, 135, 272, 900, 700, 270, 200, 150, 225, 135, 180, 134, 360, 700, 640, 450, 450, 201, 90, 270, 120, 270, 320, 180, 150, 360, 400, 204, 60, 120, 560, 400, 160, 405, 480, 320, 335, 400, 200, 270, 630, 200, 810, 60, 135, 360, 630, 135]\n",
      "item|quantity|unit pricechips,1,50chips,6,100chips,4,50burger,9,20magie,6,80spices,4,90magie,8,80chips,8,20burger,4,90burger,3,100sweet,2,45sweet,7,50spices,4,67chips,9,60chips,1,34sweet,3,90burger,1,80cake,2,50cake,3,67chocolate,3,20piza,9,20spices,3,50piza,3,50chocolate,8,67burger,1,80chocolate,8,90burger,3,45lolipop,3,45chips,8,100spices,7,45cake,1,80cake,3,80sweet,2,90lolipop,2,67biscuit,9,80chips,8,34spices,3,50magie,2,90piza,2,34magie,8,67spices,1,20chocolate,8,90magie,5,50piza,2,67spices,3,20sweet,8,45magie,8,67cake,2,20piza,3,60spices,2,67biscuit,3,100sweet,4,90magie,3,50chips,3,45lolipop,8,34sweet,9,100spices,7,100magie,6,45chips,2,100piza,3,50chocolate,5,45chocolate,3,45piza,3,60biscuit,2,67sweet,8,45magie,7,100lolipop,8,80sweet,5,90piza,9,50sweet,3,67burger,2,45lolipop,3,90chocolate,2,60burger,3,90piza,4,80biscuit,2,90magie,3,50chips,4,90burger,5,80cake,6,34chips,1,60magie,6,20biscuit,7,80burger,4,100chips,8,20chocolate,9,45chocolate,6,80lolipop,4,80spices,5,67biscuit,4,100biscuit,2,100chocolate,3,90chocolate,7,90piza,2,100chips,9,90magie,1,60chips,3,45lolipop,8,45spices,7,90spices,3,45 600 \n",
      "\n",
      "item|quantity|unit pricechips,1,50chips,6,100chips,4,50burger,9,20magie,6,80spices,4,90magie,8,80chips,8,20burger,4,90burger,3,100sweet,2,45sweet,7,50spices,4,67chips,9,60chips,1,34sweet,3,90burger,1,80cake,2,50cake,3,67chocolate,3,20piza,9,20spices,3,50piza,3,50chocolate,8,67burger,1,80chocolate,8,90burger,3,45lolipop,3,45chips,8,100spices,7,45cake,1,80cake,3,80sweet,2,90lolipop,2,67biscuit,9,80chips,8,34spices,3,50magie,2,90piza,2,34magie,8,67spices,1,20chocolate,8,90magie,5,50piza,2,67spices,3,20sweet,8,45magie,8,67cake,2,20piza,3,60spices,2,67biscuit,3,100sweet,4,90magie,3,50chips,3,45lolipop,8,34sweet,9,100spices,7,100magie,6,45chips,2,100piza,3,50chocolate,5,45chocolate,3,45piza,3,60biscuit,2,67sweet,8,45magie,7,100lolipop,8,80sweet,5,90piza,9,50sweet,3,67burger,2,45lolipop,3,90chocolate,2,60burger,3,90piza,4,80biscuit,2,90magie,3,50chips,4,90burger,5,80cake,6,34chips,1,60magie,6,20biscuit,7,80burger,4,100chips,8,20chocolate,9,45chocolate,6,80lolipop,4,80spices,5,67biscuit,4,100biscuit,2,100chocolate,3,90chocolate,7,90piza,2,100chips,9,90magie,1,60chips,3,45lolipop,8,45spices,7,90spices,3,45 200 \n",
      "\n",
      "item|quantity|unit pricechips,1,50chips,6,100chips,4,50burger,9,20magie,6,80spices,4,90magie,8,80chips,8,20burger,4,90burger,3,100sweet,2,45sweet,7,50spices,4,67chips,9,60chips,1,34sweet,3,90burger,1,80cake,2,50cake,3,67chocolate,3,20piza,9,20spices,3,50piza,3,50chocolate,8,67burger,1,80chocolate,8,90burger,3,45lolipop,3,45chips,8,100spices,7,45cake,1,80cake,3,80sweet,2,90lolipop,2,67biscuit,9,80chips,8,34spices,3,50magie,2,90piza,2,34magie,8,67spices,1,20chocolate,8,90magie,5,50piza,2,67spices,3,20sweet,8,45magie,8,67cake,2,20piza,3,60spices,2,67biscuit,3,100sweet,4,90magie,3,50chips,3,45lolipop,8,34sweet,9,100spices,7,100magie,6,45chips,2,100piza,3,50chocolate,5,45chocolate,3,45piza,3,60biscuit,2,67sweet,8,45magie,7,100lolipop,8,80sweet,5,90piza,9,50sweet,3,67burger,2,45lolipop,3,90chocolate,2,60burger,3,90piza,4,80biscuit,2,90magie,3,50chips,4,90burger,5,80cake,6,34chips,1,60magie,6,20biscuit,7,80burger,4,100chips,8,20chocolate,9,45chocolate,6,80lolipop,4,80spices,5,67biscuit,4,100biscuit,2,100chocolate,3,90chocolate,7,90piza,2,100chips,9,90magie,1,60chips,3,45lolipop,8,45spices,7,90spices,3,45 180 \n",
      "\n",
      "item|quantity|unit pricechips,1,50chips,6,100chips,4,50burger,9,20magie,6,80spices,4,90magie,8,80chips,8,20burger,4,90burger,3,100sweet,2,45sweet,7,50spices,4,67chips,9,60chips,1,34sweet,3,90burger,1,80cake,2,50cake,3,67chocolate,3,20piza,9,20spices,3,50piza,3,50chocolate,8,67burger,1,80chocolate,8,90burger,3,45lolipop,3,45chips,8,100spices,7,45cake,1,80cake,3,80sweet,2,90lolipop,2,67biscuit,9,80chips,8,34spices,3,50magie,2,90piza,2,34magie,8,67spices,1,20chocolate,8,90magie,5,50piza,2,67spices,3,20sweet,8,45magie,8,67cake,2,20piza,3,60spices,2,67biscuit,3,100sweet,4,90magie,3,50chips,3,45lolipop,8,34sweet,9,100spices,7,100magie,6,45chips,2,100piza,3,50chocolate,5,45chocolate,3,45piza,3,60biscuit,2,67sweet,8,45magie,7,100lolipop,8,80sweet,5,90piza,9,50sweet,3,67burger,2,45lolipop,3,90chocolate,2,60burger,3,90piza,4,80biscuit,2,90magie,3,50chips,4,90burger,5,80cake,6,34chips,1,60magie,6,20biscuit,7,80burger,4,100chips,8,20chocolate,9,45chocolate,6,80lolipop,4,80spices,5,67biscuit,4,100biscuit,2,100chocolate,3,90chocolate,7,90piza,2,100chips,9,90magie,1,60chips,3,45lolipop,8,45spices,7,90spices,3,45 480 \n",
      "\n",
      "item|quantity|unit pricechips,1,50chips,6,100chips,4,50burger,9,20magie,6,80spices,4,90magie,8,80chips,8,20burger,4,90burger,3,100sweet,2,45sweet,7,50spices,4,67chips,9,60chips,1,34sweet,3,90burger,1,80cake,2,50cake,3,67chocolate,3,20piza,9,20spices,3,50piza,3,50chocolate,8,67burger,1,80chocolate,8,90burger,3,45lolipop,3,45chips,8,100spices,7,45cake,1,80cake,3,80sweet,2,90lolipop,2,67biscuit,9,80chips,8,34spices,3,50magie,2,90piza,2,34magie,8,67spices,1,20chocolate,8,90magie,5,50piza,2,67spices,3,20sweet,8,45magie,8,67cake,2,20piza,3,60spices,2,67biscuit,3,100sweet,4,90magie,3,50chips,3,45lolipop,8,34sweet,9,100spices,7,100magie,6,45chips,2,100piza,3,50chocolate,5,45chocolate,3,45piza,3,60biscuit,2,67sweet,8,45magie,7,100lolipop,8,80sweet,5,90piza,9,50sweet,3,67burger,2,45lolipop,3,90chocolate,2,60burger,3,90piza,4,80biscuit,2,90magie,3,50chips,4,90burger,5,80cake,6,34chips,1,60magie,6,20biscuit,7,80burger,4,100chips,8,20chocolate,9,45chocolate,6,80lolipop,4,80spices,5,67biscuit,4,100biscuit,2,100chocolate,3,90chocolate,7,90piza,2,100chips,9,90magie,1,60chips,3,45lolipop,8,45spices,7,90spices,3,45 630 \n",
      "\n",
      "item|quantity|unit pricechips,1,50chips,6,100chips,4,50burger,9,20magie,6,80spices,4,90magie,8,80chips,8,20burger,4,90burger,3,100sweet,2,45sweet,7,50spices,4,67chips,9,60chips,1,34sweet,3,90burger,1,80cake,2,50cake,3,67chocolate,3,20piza,9,20spices,3,50piza,3,50chocolate,8,67burger,1,80chocolate,8,90burger,3,45lolipop,3,45chips,8,100spices,7,45cake,1,80cake,3,80sweet,2,90lolipop,2,67biscuit,9,80chips,8,34spices,3,50magie,2,90piza,2,34magie,8,67spices,1,20chocolate,8,90magie,5,50piza,2,67spices,3,20sweet,8,45magie,8,67cake,2,20piza,3,60spices,2,67biscuit,3,100sweet,4,90magie,3,50chips,3,45lolipop,8,34sweet,9,100spices,7,100magie,6,45chips,2,100piza,3,50chocolate,5,45chocolate,3,45piza,3,60biscuit,2,67sweet,8,45magie,7,100lolipop,8,80sweet,5,90piza,9,50sweet,3,67burger,2,45lolipop,3,90chocolate,2,60burger,3,90piza,4,80biscuit,2,90magie,3,50chips,4,90burger,5,80cake,6,34chips,1,60magie,6,20biscuit,7,80burger,4,100chips,8,20chocolate,9,45chocolate,6,80lolipop,4,80spices,5,67biscuit,4,100biscuit,2,100chocolate,3,90chocolate,7,90piza,2,100chips,9,90magie,1,60chips,3,45lolipop,8,45spices,7,90spices,3,45 200 \n",
      "\n",
      "item|quantity|unit pricechips,1,50chips,6,100chips,4,50burger,9,20magie,6,80spices,4,90magie,8,80chips,8,20burger,4,90burger,3,100sweet,2,45sweet,7,50spices,4,67chips,9,60chips,1,34sweet,3,90burger,1,80cake,2,50cake,3,67chocolate,3,20piza,9,20spices,3,50piza,3,50chocolate,8,67burger,1,80chocolate,8,90burger,3,45lolipop,3,45chips,8,100spices,7,45cake,1,80cake,3,80sweet,2,90lolipop,2,67biscuit,9,80chips,8,34spices,3,50magie,2,90piza,2,34magie,8,67spices,1,20chocolate,8,90magie,5,50piza,2,67spices,3,20sweet,8,45magie,8,67cake,2,20piza,3,60spices,2,67biscuit,3,100sweet,4,90magie,3,50chips,3,45lolipop,8,34sweet,9,100spices,7,100magie,6,45chips,2,100piza,3,50chocolate,5,45chocolate,3,45piza,3,60biscuit,2,67sweet,8,45magie,7,100lolipop,8,80sweet,5,90piza,9,50sweet,3,67burger,2,45lolipop,3,90chocolate,2,60burger,3,90piza,4,80biscuit,2,90magie,3,50chips,4,90burger,5,80cake,6,34chips,1,60magie,6,20biscuit,7,80burger,4,100chips,8,20chocolate,9,45chocolate,6,80lolipop,4,80spices,5,67biscuit,4,100biscuit,2,100chocolate,3,90chocolate,7,90piza,2,100chips,9,90magie,1,60chips,3,45lolipop,8,45spices,7,90spices,3,45 810 \n",
      "\n",
      "item|quantity|unit pricechips,1,50chips,6,100chips,4,50burger,9,20magie,6,80spices,4,90magie,8,80chips,8,20burger,4,90burger,3,100sweet,2,45sweet,7,50spices,4,67chips,9,60chips,1,34sweet,3,90burger,1,80cake,2,50cake,3,67chocolate,3,20piza,9,20spices,3,50piza,3,50chocolate,8,67burger,1,80chocolate,8,90burger,3,45lolipop,3,45chips,8,100spices,7,45cake,1,80cake,3,80sweet,2,90lolipop,2,67biscuit,9,80chips,8,34spices,3,50magie,2,90piza,2,34magie,8,67spices,1,20chocolate,8,90magie,5,50piza,2,67spices,3,20sweet,8,45magie,8,67cake,2,20piza,3,60spices,2,67biscuit,3,100sweet,4,90magie,3,50chips,3,45lolipop,8,34sweet,9,100spices,7,100magie,6,45chips,2,100piza,3,50chocolate,5,45chocolate,3,45piza,3,60biscuit,2,67sweet,8,45magie,7,100lolipop,8,80sweet,5,90piza,9,50sweet,3,67burger,2,45lolipop,3,90chocolate,2,60burger,3,90piza,4,80biscuit,2,90magie,3,50chips,4,90burger,5,80cake,6,34chips,1,60magie,6,20biscuit,7,80burger,4,100chips,8,20chocolate,9,45chocolate,6,80lolipop,4,80spices,5,67biscuit,4,100biscuit,2,100chocolate,3,90chocolate,7,90piza,2,100chips,9,90magie,1,60chips,3,45lolipop,8,45spices,7,90spices,3,45 60 \n",
      "\n",
      "item|quantity|unit pricechips,1,50chips,6,100chips,4,50burger,9,20magie,6,80spices,4,90magie,8,80chips,8,20burger,4,90burger,3,100sweet,2,45sweet,7,50spices,4,67chips,9,60chips,1,34sweet,3,90burger,1,80cake,2,50cake,3,67chocolate,3,20piza,9,20spices,3,50piza,3,50chocolate,8,67burger,1,80chocolate,8,90burger,3,45lolipop,3,45chips,8,100spices,7,45cake,1,80cake,3,80sweet,2,90lolipop,2,67biscuit,9,80chips,8,34spices,3,50magie,2,90piza,2,34magie,8,67spices,1,20chocolate,8,90magie,5,50piza,2,67spices,3,20sweet,8,45magie,8,67cake,2,20piza,3,60spices,2,67biscuit,3,100sweet,4,90magie,3,50chips,3,45lolipop,8,34sweet,9,100spices,7,100magie,6,45chips,2,100piza,3,50chocolate,5,45chocolate,3,45piza,3,60biscuit,2,67sweet,8,45magie,7,100lolipop,8,80sweet,5,90piza,9,50sweet,3,67burger,2,45lolipop,3,90chocolate,2,60burger,3,90piza,4,80biscuit,2,90magie,3,50chips,4,90burger,5,80cake,6,34chips,1,60magie,6,20biscuit,7,80burger,4,100chips,8,20chocolate,9,45chocolate,6,80lolipop,4,80spices,5,67biscuit,4,100biscuit,2,100chocolate,3,90chocolate,7,90piza,2,100chips,9,90magie,1,60chips,3,45lolipop,8,45spices,7,90spices,3,45 135 \n",
      "\n",
      "item|quantity|unit pricechips,1,50chips,6,100chips,4,50burger,9,20magie,6,80spices,4,90magie,8,80chips,8,20burger,4,90burger,3,100sweet,2,45sweet,7,50spices,4,67chips,9,60chips,1,34sweet,3,90burger,1,80cake,2,50cake,3,67chocolate,3,20piza,9,20spices,3,50piza,3,50chocolate,8,67burger,1,80chocolate,8,90burger,3,45lolipop,3,45chips,8,100spices,7,45cake,1,80cake,3,80sweet,2,90lolipop,2,67biscuit,9,80chips,8,34spices,3,50magie,2,90piza,2,34magie,8,67spices,1,20chocolate,8,90magie,5,50piza,2,67spices,3,20sweet,8,45magie,8,67cake,2,20piza,3,60spices,2,67biscuit,3,100sweet,4,90magie,3,50chips,3,45lolipop,8,34sweet,9,100spices,7,100magie,6,45chips,2,100piza,3,50chocolate,5,45chocolate,3,45piza,3,60biscuit,2,67sweet,8,45magie,7,100lolipop,8,80sweet,5,90piza,9,50sweet,3,67burger,2,45lolipop,3,90chocolate,2,60burger,3,90piza,4,80biscuit,2,90magie,3,50chips,4,90burger,5,80cake,6,34chips,1,60magie,6,20biscuit,7,80burger,4,100chips,8,20chocolate,9,45chocolate,6,80lolipop,4,80spices,5,67biscuit,4,100biscuit,2,100chocolate,3,90chocolate,7,90piza,2,100chips,9,90magie,1,60chips,3,45lolipop,8,45spices,7,90spices,3,45 360 \n",
      "\n",
      "item|quantity|unit pricechips,1,50chips,6,100chips,4,50burger,9,20magie,6,80spices,4,90magie,8,80chips,8,20burger,4,90burger,3,100sweet,2,45sweet,7,50spices,4,67chips,9,60chips,1,34sweet,3,90burger,1,80cake,2,50cake,3,67chocolate,3,20piza,9,20spices,3,50piza,3,50chocolate,8,67burger,1,80chocolate,8,90burger,3,45lolipop,3,45chips,8,100spices,7,45cake,1,80cake,3,80sweet,2,90lolipop,2,67biscuit,9,80chips,8,34spices,3,50magie,2,90piza,2,34magie,8,67spices,1,20chocolate,8,90magie,5,50piza,2,67spices,3,20sweet,8,45magie,8,67cake,2,20piza,3,60spices,2,67biscuit,3,100sweet,4,90magie,3,50chips,3,45lolipop,8,34sweet,9,100spices,7,100magie,6,45chips,2,100piza,3,50chocolate,5,45chocolate,3,45piza,3,60biscuit,2,67sweet,8,45magie,7,100lolipop,8,80sweet,5,90piza,9,50sweet,3,67burger,2,45lolipop,3,90chocolate,2,60burger,3,90piza,4,80biscuit,2,90magie,3,50chips,4,90burger,5,80cake,6,34chips,1,60magie,6,20biscuit,7,80burger,4,100chips,8,20chocolate,9,45chocolate,6,80lolipop,4,80spices,5,67biscuit,4,100biscuit,2,100chocolate,3,90chocolate,7,90piza,2,100chips,9,90magie,1,60chips,3,45lolipop,8,45spices,7,90spices,3,45 630 \n",
      "\n",
      "item|quantity|unit pricechips,1,50chips,6,100chips,4,50burger,9,20magie,6,80spices,4,90magie,8,80chips,8,20burger,4,90burger,3,100sweet,2,45sweet,7,50spices,4,67chips,9,60chips,1,34sweet,3,90burger,1,80cake,2,50cake,3,67chocolate,3,20piza,9,20spices,3,50piza,3,50chocolate,8,67burger,1,80chocolate,8,90burger,3,45lolipop,3,45chips,8,100spices,7,45cake,1,80cake,3,80sweet,2,90lolipop,2,67biscuit,9,80chips,8,34spices,3,50magie,2,90piza,2,34magie,8,67spices,1,20chocolate,8,90magie,5,50piza,2,67spices,3,20sweet,8,45magie,8,67cake,2,20piza,3,60spices,2,67biscuit,3,100sweet,4,90magie,3,50chips,3,45lolipop,8,34sweet,9,100spices,7,100magie,6,45chips,2,100piza,3,50chocolate,5,45chocolate,3,45piza,3,60biscuit,2,67sweet,8,45magie,7,100lolipop,8,80sweet,5,90piza,9,50sweet,3,67burger,2,45lolipop,3,90chocolate,2,60burger,3,90piza,4,80biscuit,2,90magie,3,50chips,4,90burger,5,80cake,6,34chips,1,60magie,6,20biscuit,7,80burger,4,100chips,8,20chocolate,9,45chocolate,6,80lolipop,4,80spices,5,67biscuit,4,100biscuit,2,100chocolate,3,90chocolate,7,90piza,2,100chips,9,90magie,1,60chips,3,45lolipop,8,45spices,7,90spices,3,45 135 \n",
      "\n"
     ]
    },
    {
     "ename": "IndexError",
     "evalue": "list index out of range",
     "output_type": "error",
     "traceback": [
      "\u001b[1;31m---------------------------------------------------------------------------\u001b[0m",
      "\u001b[1;31mIndexError\u001b[0m                                Traceback (most recent call last)",
      "\u001b[1;32md:\\CHRIST\\MScDSA-MDS171-23122028-RIYA\\lab05.ipynb\\lab05.ipynb Cell 2\u001b[0m line \u001b[0;36m2\n\u001b[0;32m     <a href='vscode-notebook-cell:/d%3A/CHRIST/MScDSA-MDS171-23122028-RIYA/lab05.ipynb/lab05.ipynb#W1sZmlsZQ%3D%3D?line=23'>24</a>\u001b[0m     counter\u001b[39m+\u001b[39m\u001b[39m=\u001b[39m\u001b[39m1\u001b[39m\n\u001b[0;32m     <a href='vscode-notebook-cell:/d%3A/CHRIST/MScDSA-MDS171-23122028-RIYA/lab05.ipynb/lab05.ipynb#W1sZmlsZQ%3D%3D?line=24'>25</a>\u001b[0m     \u001b[39mif\u001b[39;00m(counter\u001b[39m<\u001b[39m\u001b[39m5\u001b[39m \u001b[39mor\u001b[39;00m \u001b[39m91\u001b[39m\u001b[39m<\u001b[39mcounter\u001b[39m<\u001b[39m\u001b[39m101\u001b[39m):\n\u001b[1;32m---> <a href='vscode-notebook-cell:/d%3A/CHRIST/MScDSA-MDS171-23122028-RIYA/lab05.ipynb/lab05.ipynb#W1sZmlsZQ%3D%3D?line=25'>26</a>\u001b[0m         \u001b[39mprint\u001b[39m(lines,totalst[counter],\u001b[39m\"\u001b[39m\u001b[39m\\n\u001b[39;00m\u001b[39m\"\u001b[39m)\n\u001b[0;32m     <a href='vscode-notebook-cell:/d%3A/CHRIST/MScDSA-MDS171-23122028-RIYA/lab05.ipynb/lab05.ipynb#W1sZmlsZQ%3D%3D?line=26'>27</a>\u001b[0m \u001b[39mfor\u001b[39;00m i \u001b[39min\u001b[39;00m \u001b[39mrange\u001b[39m(\u001b[39m91\u001b[39m,\u001b[39m101\u001b[39m): \u001b[39m#last ten lines\u001b[39;00m\n\u001b[0;32m     <a href='vscode-notebook-cell:/d%3A/CHRIST/MScDSA-MDS171-23122028-RIYA/lab05.ipynb/lab05.ipynb#W1sZmlsZQ%3D%3D?line=27'>28</a>\u001b[0m     lines\u001b[39m=\u001b[39mfile\u001b[39m.\u001b[39mreadline()\n",
      "\u001b[1;31mIndexError\u001b[0m: list index out of range"
     ]
    }
   ],
   "source": [
    "import random\n",
    "item=[\"chips\",\"biscuit\",\"cake\",\"burger\",\"piza\",\"lolipop\",\"chocolate\",\"spices\",\"sweet\",\"magie\"]\n",
    "quantity =[\"1\",\"4\",\"3\",\"7\",\"9\",\"6\",\"3\",\"2\",\"5\",\"8\"]\n",
    "price =[\"50\",\"90\",\"100\",\"34\",\"67\",\"90\",\"80\",\"45\",\"60\",\"20\"]\n",
    "totalst=[]\n",
    "file= open(\"23122028.csv\",\"w+\")\n",
    "file.write(\"item|quantity|unit price\")\n",
    "for i in range(100):\n",
    "    \n",
    "    r1=random.randint(0,9)  #getting random numbers\n",
    "    r2=random.randint(0,9)\n",
    "    r3=random.randint(0,9)\n",
    "    intquantity= int(quantity[r2])\n",
    "    intprice = int(price[r3])\n",
    "    total = intquantity*intprice\n",
    "    totalst.append(total)\n",
    "    file.write(item[r1]+\",\"+quantity[r2]+\",\"+price[r3])\n",
    "print(totalst)\n",
    "file.close()\n",
    "with open(\"23122028.csv\",\"r+\") as file:\n",
    "    lines=file.readline()\n",
    "    counter=0\n",
    "    for i in lines:  #pdisplay total cost in the first five rows\n",
    "        counter+=1\n",
    "        if(counter<5 or 91<counter<101):\n",
    "            print(lines,totalst[counter],\"\\n\")\n",
    "    #for i in range(91,101): #last ten lines\n",
    "        #lines=file.readline()\n",
    "        #print(lines,totalst[i])\n",
    "\n",
    "\n",
    "\n",
    "\n",
    "    \n",
    "\n"
   ]
  },
  {
   "cell_type": "code",
   "execution_count": 18,
   "metadata": {},
   "outputs": [
    {
     "name": "stdout",
     "output_type": "stream",
     "text": [
      "6102 2890 2706 3604 4717 4855 2558 1305 1905 3226\n",
      "Item Name | Total Quantity | Total\n"
     ]
    }
   ],
   "source": [
    "#total cost for each unique item\n",
    "\n",
    "with open(\"23122028.csv\",\"r+\") as file:\n",
    "    line=file.readlines()\n",
    "    m=0\n",
    "    n=0\n",
    "    u=0\n",
    "    y=0\n",
    "    t=0\n",
    "    r=0\n",
    "    q=0\n",
    "    z=0\n",
    "    c=0\n",
    "    v=0\n",
    "    for i in line:\n",
    "        k=i.split(\"=\")\n",
    "        if 'magie' in k[0]:\n",
    "            m=m+int(k[1])\n",
    "        elif 'sweet' in k[0]:\n",
    "            n=n+int(k[1])\n",
    "        elif 'spices' in k[0]:\n",
    "            u=u+int(k[1])\n",
    "        elif 'chocolate' in k[0]:\n",
    "            y=y+int(k[1])\n",
    "        elif 'lolipop'in k[0]:\n",
    "            t=t+int(k[1])\n",
    "        elif 'piza' in k[0]:\n",
    "            r=r+int(k[1])\n",
    "        elif 'burger' in k[0]:\n",
    "            q=q+int(k[1])\n",
    "        elif 'cake' in k[0]:\n",
    "            z=z+int(k[1])\n",
    "        elif 'biscuit' in k[0]:\n",
    "            c=c+int(k[1])\n",
    "        else:    \n",
    "            v=v+int(k[1])\n",
    "    print(m,n,u,y,t,r,q,z,c,v)\n",
    "        \n",
    "\n",
    "print(\"Item Name | Total Quantity | Total\")\n",
    "\n",
    "                             \n",
    "    \n",
    "\n",
    "        \n",
    "\n",
    "\n",
    "\n",
    "\n",
    "\n",
    "    \n",
    "\n",
    "    "
   ]
  },
  {
   "cell_type": "code",
   "execution_count": 3,
   "metadata": {},
   "outputs": [],
   "source": [
    "#minimum and maximum price of each item\n",
    "\n"
   ]
  },
  {
   "cell_type": "code",
   "execution_count": null,
   "metadata": {},
   "outputs": [],
   "source": []
  }
 ],
 "metadata": {
  "kernelspec": {
   "display_name": "Python 3",
   "language": "python",
   "name": "python3"
  },
  "language_info": {
   "codemirror_mode": {
    "name": "ipython",
    "version": 3
   },
   "file_extension": ".py",
   "mimetype": "text/x-python",
   "name": "python",
   "nbconvert_exporter": "python",
   "pygments_lexer": "ipython3",
   "version": "3.11.1"
  },
  "orig_nbformat": 4
 },
 "nbformat": 4,
 "nbformat_minor": 2
}
