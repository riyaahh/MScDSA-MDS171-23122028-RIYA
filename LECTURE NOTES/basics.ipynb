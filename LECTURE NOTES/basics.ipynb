{
 "cells": [
  {
   "cell_type": "code",
   "execution_count": 4,
   "metadata": {},
   "outputs": [
    {
     "name": "stdout",
     "output_type": "stream",
     "text": [
      "start program\n",
      "end\n"
     ]
    }
   ],
   "source": [
    "print('start program')\n",
    "a=5\n",
    "if a==4:\n",
    "    print(\"the value is five\")\n",
    "print('end')  "
   ]
  },
  {
   "cell_type": "code",
   "execution_count": 10,
   "metadata": {},
   "outputs": [
    {
     "name": "stdout",
     "output_type": "stream",
     "text": [
      "Start\n",
      "the value is five\n",
      "end\n"
     ]
    }
   ],
   "source": [
    "print(\"Start\")\n",
    "a=int(input(\"enter the number\"))\n",
    "if a==5:\n",
    "    print(\"the value is five\")\n",
    "print(\"end\")\n",
    "   "
   ]
  },
  {
   "cell_type": "code",
   "execution_count": 15,
   "metadata": {},
   "outputs": [
    {
     "name": "stdout",
     "output_type": "stream",
     "text": [
      "not five\n"
     ]
    }
   ],
   "source": [
    "a=int(input(\"enter the number\"))\n",
    "if a==5:\n",
    "    print(\"five\")\n",
    "else:\n",
    "    print(\"not five\")\n"
   ]
  },
  {
   "cell_type": "code",
   "execution_count": 18,
   "metadata": {},
   "outputs": [
    {
     "name": "stdout",
     "output_type": "stream",
     "text": [
      "entered number is 5\n"
     ]
    }
   ],
   "source": [
    "a=5\n",
    "print(\"entered number is\",a)"
   ]
  },
  {
   "cell_type": "markdown",
   "metadata": {},
   "source": [
    "write a program to check if the entered number is odd or even?"
   ]
  },
  {
   "cell_type": "code",
   "execution_count": 29,
   "metadata": {},
   "outputs": [
    {
     "name": "stdout",
     "output_type": "stream",
     "text": [
      "odd\n"
     ]
    }
   ],
   "source": [
    "a=int(input(\"enter the number\"))\n",
    "if a%2==0:\n",
    "    print(\"even\")\n",
    "else:\n",
    "    print(\"odd\")"
   ]
  },
  {
   "cell_type": "code",
   "execution_count": null,
   "metadata": {},
   "outputs": [],
   "source": [
    "\n",
    "if condition:\n",
    "    if condition:\n",
    "        print(\"hi\")\n",
    " else:\n",
    "    if condition       "
   ]
  },
  {
   "cell_type": "markdown",
   "metadata": {},
   "source": [
    "read three numbers from the user and print largest among them?"
   ]
  },
  {
   "cell_type": "code",
   "execution_count": 31,
   "metadata": {},
   "outputs": [
    {
     "name": "stdout",
     "output_type": "stream",
     "text": [
      "10\n"
     ]
    }
   ],
   "source": [
    "a=int(input(\"enter the first number\"))\n",
    "b=int(input(\"enter the second number\"))\n",
    "c=int(input(\"enter the third number\"))\n",
    "if a>b and a>c:\n",
    "    print(a)\n",
    "elif b>c and b>a:\n",
    "    print(b)\n",
    "else:\n",
    "    print(c)        "
   ]
  },
  {
   "cell_type": "markdown",
   "metadata": {},
   "source": [
    "with the same inputs sort the numbers in ascending or descending order?"
   ]
  },
  {
   "cell_type": "code",
   "execution_count": 3,
   "metadata": {},
   "outputs": [
    {
     "name": "stdout",
     "output_type": "stream",
     "text": [
      "15 10 7\n"
     ]
    }
   ],
   "source": [
    "a=int(input(\"enter the first number\"))\n",
    "b=int(input(\"enter the second number\"))\n",
    "c=int(input(\"enter the third number\"))\n",
    "if a>b>c:\n",
    "    print(a,b,c)\n",
    "elif b>a>c:\n",
    "    print(b,a,c)\n",
    "elif c>a>b:\n",
    "    print(c,a,b)        "
   ]
  },
  {
   "cell_type": "code",
   "execution_count": null,
   "metadata": {},
   "outputs": [],
   "source": []
  },
  {
   "cell_type": "code",
   "execution_count": 4,
   "metadata": {},
   "outputs": [
    {
     "name": "stdout",
     "output_type": "stream",
     "text": [
      "t\n",
      "h\n",
      "i\n",
      "s\n",
      " \n",
      "i\n",
      "s\n",
      " \n",
      "a\n",
      " \n",
      "s\n",
      "t\n",
      "r\n",
      "i\n",
      "n\n",
      "g\n"
     ]
    }
   ],
   "source": [
    "for x in \"this is a string\":\n",
    "    print(x)"
   ]
  },
  {
   "cell_type": "code",
   "execution_count": 11,
   "metadata": {},
   "outputs": [
    {
     "name": "stdout",
     "output_type": "stream",
     "text": [
      "23\n",
      "22\n"
     ]
    }
   ],
   "source": [
    "msge=\"this is a string \\n yes \" #\\n to go to next line & \\t for tab space\n",
    "print(len(msge)) #get the length of the string\n",
    "msge=msge.strip() #remove the empty or remove special characters at the end or begining of a string\n",
    "print(len(msge))"
   ]
  },
  {
   "cell_type": "code",
   "execution_count": 18,
   "metadata": {},
   "outputs": [
    {
     "name": "stdout",
     "output_type": "stream",
     "text": [
      "1\n",
      "5\n",
      "9\n"
     ]
    }
   ],
   "source": [
    "for i in range(1,10,4):    #the last num in the bracket is to jump \n",
    "    print(i)"
   ]
  },
  {
   "cell_type": "markdown",
   "metadata": {},
   "source": [
    "list is represented in square brackets[]"
   ]
  },
  {
   "cell_type": "code",
   "execution_count": 1,
   "metadata": {},
   "outputs": [
    {
     "name": "stdout",
     "output_type": "stream",
     "text": [
      "<class 'list'>\n",
      "9.5\n",
      "item1\n",
      "item 2\n",
      "5\n",
      "2\n",
      "9.5\n"
     ]
    }
   ],
   "source": [
    "listex=[\"item1\",\"item 2\",5,2,9.5]\n",
    "print(type(listex))  #gives the type of datatype\n",
    "print(listex[4]) #to access the value with certain index in the list\n",
    "for i in listex: #access all the values\n",
    "    print(i)"
   ]
  },
  {
   "cell_type": "markdown",
   "metadata": {},
   "source": [
    "for \n",
    "while\n",
    "string is put in double inverted comas."
   ]
  },
  {
   "cell_type": "markdown",
   "metadata": {},
   "source": [
    "functions associated with string\n",
    "split()\n",
    "strip()"
   ]
  },
  {
   "cell_type": "code",
   "execution_count": 2,
   "metadata": {},
   "outputs": [
    {
     "data": {
      "text/plain": [
       "'haii..'"
      ]
     },
     "execution_count": 2,
     "metadata": {},
     "output_type": "execute_result"
    }
   ],
   "source": [
    "\" \\t haii.. \\n\".strip()"
   ]
  },
  {
   "cell_type": "code",
   "execution_count": 6,
   "metadata": {},
   "outputs": [
    {
     "name": "stdout",
     "output_type": "stream",
     "text": [
      " \t haii.. \n",
      "\n"
     ]
    }
   ],
   "source": [
    "a=\" \\t haii.. \\n\"\n",
    "print(a)"
   ]
  },
  {
   "cell_type": "code",
   "execution_count": 7,
   "metadata": {},
   "outputs": [
    {
     "name": "stdout",
     "output_type": "stream",
     "text": [
      "haii..\n"
     ]
    }
   ],
   "source": [
    "a=\" \\t haii.. \\n\"\n",
    "a=a.strip()\n",
    "print(a)"
   ]
  },
  {
   "cell_type": "code",
   "execution_count": 13,
   "metadata": {},
   "outputs": [
    {
     "data": {
      "text/plain": [
       "['hello', 'this', 'is', 'a', 'string']"
      ]
     },
     "execution_count": 13,
     "metadata": {},
     "output_type": "execute_result"
    }
   ],
   "source": [
    "a=\"hello this is a string\"\n",
    "a.split(' ')\n",
    "\n"
   ]
  },
  {
   "cell_type": "code",
   "execution_count": 11,
   "metadata": {},
   "outputs": [
    {
     "data": {
      "text/plain": [
       "'this'"
      ]
     },
     "execution_count": 11,
     "metadata": {},
     "output_type": "execute_result"
    }
   ],
   "source": [
    "a=\"hello this is a string\"\n",
    "a.split(' ')[1]\n",
    "\n",
    "\n"
   ]
  },
  {
   "cell_type": "code",
   "execution_count": 18,
   "metadata": {},
   "outputs": [
    {
     "name": "stdout",
     "output_type": "stream",
     "text": [
      "['hello', 'this', 'is', 'a', 'string']\n",
      "['hello', 'this', 'is', 'a', 'string']\n"
     ]
    }
   ],
   "source": [
    "a=\"hello this is a string\"\n",
    "print(a.split(' ' ))\n",
    "res=a.split(' ')\n",
    "print(res)"
   ]
  },
  {
   "cell_type": "code",
   "execution_count": 17,
   "metadata": {},
   "outputs": [
    {
     "name": "stdout",
     "output_type": "stream",
     "text": [
      "['hello', 'this', 'is', 'a', 'string']\n",
      "a\n"
     ]
    }
   ],
   "source": [
    "a=\"hello this is a string\"\n",
    "print(a.split(' ' ))\n",
    "res=a.split(' ')[3]\n",
    "print(res)"
   ]
  },
  {
   "cell_type": "code",
   "execution_count": 22,
   "metadata": {},
   "outputs": [
    {
     "name": "stdout",
     "output_type": "stream",
     "text": [
      "['hello this', 's a string']\n",
      "['hello this is a string']\n"
     ]
    }
   ],
   "source": [
    "a=\"hello this is a string\"\n",
    "print(a.split(' i' ))\n",
    "res=a.split('i ')\n",
    "print(res)"
   ]
  },
  {
   "cell_type": "code",
   "execution_count": 27,
   "metadata": {},
   "outputs": [
    {
     "name": "stdout",
     "output_type": "stream",
     "text": [
      "RIYA\n",
      "riya\n",
      "RIyA\n"
     ]
    }
   ],
   "source": [
    "print(\"riya\".upper())\n",
    "print(\"RIya\".lower())\n",
    "print(\"riYa\".swapcase())"
   ]
  },
  {
   "cell_type": "code",
   "execution_count": 30,
   "metadata": {},
   "outputs": [
    {
     "name": "stdout",
     "output_type": "stream",
     "text": [
      "k\n",
      "phot\n"
     ]
    }
   ],
   "source": [
    "#accessing certain characters\n",
    "a=\"ilikephotography\"\n",
    "print(a[3])\n",
    "print(a[5:9])"
   ]
  },
  {
   "cell_type": "markdown",
   "metadata": {},
   "source": [
    ".format"
   ]
  },
  {
   "cell_type": "code",
   "execution_count": 36,
   "metadata": {},
   "outputs": [
    {
     "name": "stdout",
     "output_type": "stream",
     "text": [
      "  your name is riya and you are from mscdsa.\n"
     ]
    }
   ],
   "source": [
    "name=input(\"enter the name\")\n",
    "nclass=input(\"enter the class\")\n",
    "print(\"  your name is {} and you are from {}.\".format(name,nclass))"
   ]
  },
  {
   "cell_type": "code",
   "execution_count": 4,
   "metadata": {},
   "outputs": [
    {
     "name": "stdout",
     "output_type": "stream",
     "text": [
      "['2', '4', '5', '8', '9']\n"
     ]
    }
   ],
   "source": [
    "num=\"2,4,5,8,9\"\n",
    "no=num.split(',')\n",
    "print(no)"
   ]
  },
  {
   "cell_type": "code",
   "execution_count": 9,
   "metadata": {},
   "outputs": [
    {
     "name": "stdout",
     "output_type": "stream",
     "text": [
      "['2', '4', '5', '8', '9']\n",
      "2 <class 'str'> 2 <class 'int'>\n",
      "4 <class 'str'> 4 <class 'int'>\n",
      "5 <class 'str'> 5 <class 'int'>\n",
      "8 <class 'str'> 8 <class 'int'>\n",
      "9 <class 'str'> 9 <class 'int'>\n",
      "28\n"
     ]
    }
   ],
   "source": [
    "num=\"2,4,5,8,9\"\n",
    "no=num.split(',')\n",
    "print(no)\n",
    "sum=0\n",
    "for item in no:\n",
    "    temp=int(item)\n",
    "    sum=sum+temp\n",
    "    print(item,type(item),temp,type(temp))\n",
    "print(sum)"
   ]
  },
  {
   "cell_type": "code",
   "execution_count": 34,
   "metadata": {},
   "outputs": [
    {
     "name": "stdout",
     "output_type": "stream",
     "text": [
      "2\n",
      "4\n",
      "6\n",
      "8\n",
      "sum is 20\n"
     ]
    }
   ],
   "source": [
    "n=int(input(\"enter the number of digits\"))\n",
    "sum=0\n",
    "for i in range(2,n,2):\n",
    "    print(i)\n",
    "    sum=sum + i\n",
    "print(\"sum is\",sum )"
   ]
  },
  {
   "cell_type": "markdown",
   "metadata": {},
   "source": [
    "list is a collection of similar or different data types. position of elements are fixed. []. they are ase sensitive."
   ]
  },
  {
   "cell_type": "code",
   "execution_count": 1,
   "metadata": {},
   "outputs": [
    {
     "name": "stdout",
     "output_type": "stream",
     "text": [
      "one\n",
      "two\n",
      "three\n"
     ]
    }
   ],
   "source": [
    "listex=['one','two','three']\n",
    "for i in listex:\n",
    "    print(i)"
   ]
  },
  {
   "cell_type": "code",
   "execution_count": 2,
   "metadata": {},
   "outputs": [
    {
     "name": "stdout",
     "output_type": "stream",
     "text": [
      "two is found\n"
     ]
    }
   ],
   "source": [
    "listex=['one','two','three']\n",
    "if 'two' in listex:  #get an item in the list\n",
    "    print('two is found')\n"
   ]
  },
  {
   "cell_type": "code",
   "execution_count": 3,
   "metadata": {},
   "outputs": [
    {
     "name": "stdout",
     "output_type": "stream",
     "text": [
      "three\n"
     ]
    }
   ],
   "source": [
    "listex=['one','two','three']\n",
    "print(listex[2])"
   ]
  },
  {
   "cell_type": "code",
   "execution_count": 4,
   "metadata": {},
   "outputs": [
    {
     "name": "stdout",
     "output_type": "stream",
     "text": [
      "['one', 'five', 'three']\n"
     ]
    }
   ],
   "source": [
    "listex[1]='five'\n",
    "print(listex)   #change item"
   ]
  },
  {
   "cell_type": "code",
   "execution_count": 13,
   "metadata": {},
   "outputs": [
    {
     "name": "stdout",
     "output_type": "stream",
     "text": [
      "['one', 'five', 'three', 'five', 'six', 'seven', 'nine']\n"
     ]
    }
   ],
   "source": [
    "newlist=['five','six','seven','nine']\n",
    "print(listex+newlist)  #concatinate list\n",
    "\n"
   ]
  },
  {
   "cell_type": "code",
   "execution_count": 14,
   "metadata": {},
   "outputs": [
    {
     "name": "stdout",
     "output_type": "stream",
     "text": [
      "['five', 'six', 'seven', 'nine', 'eight']\n",
      "['one', 'five']\n",
      "five\n"
     ]
    }
   ],
   "source": [
    "newlist.append('eight')\n",
    "print(newlist)\n",
    "print(listex[0:2])\n",
    "print(listex[1])"
   ]
  },
  {
   "cell_type": "code",
   "execution_count": 17,
   "metadata": {},
   "outputs": [
    {
     "name": "stdout",
     "output_type": "stream",
     "text": [
      "['five', 'six', 'seven', 'nine', 'eight', 'ten']\n"
     ]
    }
   ],
   "source": [
    "newlist.append('ten',)\n",
    "print(newlist)"
   ]
  },
  {
   "cell_type": "code",
   "execution_count": 22,
   "metadata": {},
   "outputs": [
    {
     "name": "stdout",
     "output_type": "stream",
     "text": [
      "['three']\n"
     ]
    }
   ],
   "source": [
    "listex.pop(0) #pop from last or first or specified idex .\n",
    "print(listex)"
   ]
  },
  {
   "cell_type": "code",
   "execution_count": 21,
   "metadata": {},
   "outputs": [
    {
     "name": "stdout",
     "output_type": "stream",
     "text": [
      "['five', 'six', 'seven', 'nine', 'eight']\n"
     ]
    }
   ],
   "source": [
    "newlist.remove('ten') #takes value and removes it\n",
    "print(newlist)"
   ]
  },
  {
   "cell_type": "code",
   "execution_count": 24,
   "metadata": {},
   "outputs": [
    {
     "name": "stdout",
     "output_type": "stream",
     "text": [
      "['three', 'one', 'one']\n"
     ]
    }
   ],
   "source": [
    "listex.append('one')\n",
    "print(listex)"
   ]
  },
  {
   "cell_type": "markdown",
   "metadata": {},
   "source": [
    "sort\n",
    "reverse"
   ]
  },
  {
   "cell_type": "code",
   "execution_count": 33,
   "metadata": {},
   "outputs": [
    {
     "name": "stdout",
     "output_type": "stream",
     "text": [
      "['eight', 'five', 'nine', 'seven', 'six']\n",
      "['six', 'seven', 'nine', 'five', 'eight']\n"
     ]
    }
   ],
   "source": [
    "newlist.sort()\n",
    "print(newlist)\n",
    "newlist.reverse()\n",
    "print(newlist)"
   ]
  },
  {
   "cell_type": "code",
   "execution_count": 34,
   "metadata": {},
   "outputs": [
    {
     "name": "stdout",
     "output_type": "stream",
     "text": [
      "['six', 'seven', 'nine', 'five', 'eight']\n",
      "['eight', 'five', 'nine', 'seven', 'six']\n"
     ]
    }
   ],
   "source": [
    "newlist.sort(reverse=True)\n",
    "print(newlist)\n",
    "newlist.reverse()\n",
    "print(newlist)"
   ]
  },
  {
   "cell_type": "markdown",
   "metadata": {},
   "source": [
    "FUNCTIONS\n",
    "values passing into function is called argueents or parameters.\n"
   ]
  },
  {
   "cell_type": "code",
   "execution_count": 2,
   "metadata": {},
   "outputs": [],
   "source": [
    "def functionName(): #function defined.\n",
    "    print(\"hi\")\n"
   ]
  },
  {
   "cell_type": "code",
   "execution_count": 3,
   "metadata": {},
   "outputs": [
    {
     "ename": "TypeError",
     "evalue": "functionName() takes 0 positional arguments but 1 was given",
     "output_type": "error",
     "traceback": [
      "\u001b[1;31m---------------------------------------------------------------------------\u001b[0m",
      "\u001b[1;31mTypeError\u001b[0m                                 Traceback (most recent call last)",
      "Cell \u001b[1;32mIn[3], line 2\u001b[0m\n\u001b[0;32m      1\u001b[0m name \u001b[39m=\u001b[39m \u001b[39m\"\u001b[39m\u001b[39mria\u001b[39m\u001b[39m\"\u001b[39m\n\u001b[1;32m----> 2\u001b[0m functionName(name)\n",
      "\u001b[1;31mTypeError\u001b[0m: functionName() takes 0 positional arguments but 1 was given"
     ]
    }
   ],
   "source": [
    "name = \"ria\"\n",
    "functionName(name)"
   ]
  },
  {
   "cell_type": "markdown",
   "metadata": {},
   "source": [
    "define a function that takes a list of numbers as input and returns the sum of numbers without any predefined functions."
   ]
  },
  {
   "cell_type": "code",
   "execution_count": 63,
   "metadata": {},
   "outputs": [
    {
     "name": "stdout",
     "output_type": "stream",
     "text": [
      "15\n"
     ]
    }
   ],
   "source": [
    "list=[1,2,3,4,5]\n",
    "def sumnum(list1):\n",
    "    sum=0\n",
    "    for i in list1:\n",
    "        sum=sum+i\n",
    "    print(sum)\n",
    "sumnum(list)    "
   ]
  },
  {
   "cell_type": "markdown",
   "metadata": {},
   "source": [
    "collect user input of numbers in the form of coma separated values"
   ]
  },
  {
   "cell_type": "code",
   "execution_count": null,
   "metadata": {},
   "outputs": [],
   "source": [
    "list=[]\n",
    "n=int(input(\"enter the numbers\"))\n",
    "\n",
    "\n"
   ]
  },
  {
   "cell_type": "code",
   "execution_count": 2,
   "metadata": {},
   "outputs": [
    {
     "name": "stdout",
     "output_type": "stream",
     "text": [
      "product is 125\n"
     ]
    }
   ],
   "source": [
    "a=int(input(\"enter the value\"))\n",
    "b=int(input(\"enter the value\"))\n",
    "c=int(input(\"enter the value\"))\n",
    "m=a*b*c\n",
    "print(\"product is\",m)\n"
   ]
  },
  {
   "cell_type": "markdown",
   "metadata": {},
   "source": [
    "file handling"
   ]
  },
  {
   "cell_type": "code",
   "execution_count": 24,
   "metadata": {},
   "outputs": [],
   "source": [
    "file = open(\"sample.txt\", \"w+\") #open a file and store it  "
   ]
  },
  {
   "cell_type": "code",
   "execution_count": 28,
   "metadata": {},
   "outputs": [
    {
     "data": {
      "text/plain": [
       "23"
      ]
     },
     "execution_count": 28,
     "metadata": {},
     "output_type": "execute_result"
    }
   ],
   "source": [
    "file.write(\"\\n this is my first line\")#to write the number of characters written\n"
   ]
  },
  {
   "cell_type": "code",
   "execution_count": 29,
   "metadata": {},
   "outputs": [],
   "source": [
    "file.close()#to close the file then changes will get saved"
   ]
  },
  {
   "cell_type": "code",
   "execution_count": 30,
   "metadata": {},
   "outputs": [
    {
     "data": {
      "text/plain": [
       "'\\n'"
      ]
     },
     "execution_count": 30,
     "metadata": {},
     "output_type": "execute_result"
    }
   ],
   "source": [
    "file_read =open(\"sample.txt\",\"r\")\n",
    "file_read.readline() #read 1 file"
   ]
  },
  {
   "cell_type": "code",
   "execution_count": 31,
   "metadata": {},
   "outputs": [
    {
     "data": {
      "text/plain": [
       "[' this is my first line\\n',\n",
       " ' this is my first line\\n',\n",
       " ' this is my first line\\n',\n",
       " ' this is my first line']"
      ]
     },
     "execution_count": 31,
     "metadata": {},
     "output_type": "execute_result"
    }
   ],
   "source": [
    "file_read.readlines()"
   ]
  },
  {
   "cell_type": "markdown",
   "metadata": {},
   "source": [
    "Write a function that accepts your details and save into a file."
   ]
  },
  {
   "cell_type": "code",
   "execution_count": null,
   "metadata": {},
   "outputs": [],
   "source": []
  },
  {
   "cell_type": "code",
   "execution_count": 14,
   "metadata": {},
   "outputs": [
    {
     "name": "stdout",
     "output_type": "stream",
     "text": [
      "name\t:\triaphone\t:\t5287930145email\t:\t7349843@y74fuj\n"
     ]
    }
   ],
   "source": [
    "def writeMydetails(name,phone,email):#defining\n",
    "    filename = name+'.txt'\n",
    "    fileMydetails = open(name+\".txt\",\"w+\") #\\t tab space\n",
    "    fileMydetails.write(\"name\\t:\\t\"+name)\n",
    "    fileMydetails.write(\"phone\\t:\\t\"+phone)\n",
    "    fileMydetails.write(\"email\\t:\\t\"+email)\n",
    "    fileMydetails.close()\n",
    "name=input(\"enter the name\")\n",
    "phone=input(\"enter the phone number\")\n",
    "email=input(\"enter the email\")\n",
    "writeMydetails(name,phone,email)\n",
    "file = open(name+\".txt\",\"r+\")\n",
    "file_lines = file.readlines()\n",
    "for line in file_lines:\n",
    "  print(line)\n",
    "\n",
    "\n",
    "\n",
    "\n",
    "            \n",
    "\n"
   ]
  },
  {
   "cell_type": "code",
   "execution_count": 17,
   "metadata": {},
   "outputs": [],
   "source": [
    "with open(\"orders.txt\",\"a+\") as file:\n",
    "    itemname=input(\"itemname\")\n",
    "    qty=input(\"quantity\")\n",
    "    price=input(\"price\")\n",
    "    str_to_save = itemname+\",\"+qty+\",\"+price+\"\\n\"\n",
    "    file.write(str_to_save)\n",
    "    "
   ]
  },
  {
   "cell_type": "code",
   "execution_count": 4,
   "metadata": {},
   "outputs": [
    {
     "name": "stdout",
     "output_type": "stream",
     "text": [
      "<built-in method split of str object at 0x000001EEBB3832B0>\n",
      "<built-in method split of str object at 0x000001EEBB36A370>\n"
     ]
    }
   ],
   "source": [
    "for line in open(\"orders.txt\").readlines():\n",
    "    orderDetails=line.strip().split\n",
    "    print(orderDetails)"
   ]
  },
  {
   "cell_type": "markdown",
   "metadata": {},
   "source": [
    "while "
   ]
  },
  {
   "cell_type": "code",
   "execution_count": 8,
   "metadata": {},
   "outputs": [
    {
     "name": "stdout",
     "output_type": "stream",
     "text": [
      "1\n",
      "2\n",
      "3\n",
      "4\n",
      "5\n"
     ]
    }
   ],
   "source": [
    "a=1\n",
    "while a<=5:\n",
    "    print(a)\n",
    "    a=a+1"
   ]
  },
  {
   "cell_type": "markdown",
   "metadata": {},
   "source": []
  },
  {
   "cell_type": "markdown",
   "metadata": {},
   "source": [
    "break and continue,pass"
   ]
  },
  {
   "cell_type": "code",
   "execution_count": 14,
   "metadata": {},
   "outputs": [
    {
     "name": "stdout",
     "output_type": "stream",
     "text": [
      "1\n",
      "2\n",
      "3\n",
      "4\n",
      "5\n",
      "6\n",
      "7\n",
      "8\n",
      "9\n"
     ]
    }
   ],
   "source": [
    "for item in range(1,20):\n",
    "    if item == 10:\n",
    "        item = item+1\n",
    "        break\n",
    "    print(item)"
   ]
  },
  {
   "cell_type": "code",
   "execution_count": 16,
   "metadata": {},
   "outputs": [
    {
     "name": "stdout",
     "output_type": "stream",
     "text": [
      "1\n",
      "2\n",
      "3\n",
      "4\n",
      "5\n",
      "6\n",
      "7\n",
      "8\n",
      "9\n"
     ]
    }
   ],
   "source": [
    "for item in range(1,20,1):\n",
    "    if item == 10:\n",
    "        break\n",
    "    print(item)"
   ]
  },
  {
   "cell_type": "code",
   "execution_count": 21,
   "metadata": {},
   "outputs": [
    {
     "name": "stdout",
     "output_type": "stream",
     "text": [
      "1\n",
      "3\n",
      "4\n",
      "5\n",
      "6\n",
      "7\n",
      "8\n",
      "9\n",
      "10\n",
      "11\n",
      "12\n",
      "13\n",
      "14\n",
      "15\n",
      "16\n",
      "17\n",
      "18\n",
      "19\n"
     ]
    }
   ],
   "source": [
    "for item in range(1,20,1):\n",
    "    if item == 2:\n",
    "        continue #skip\n",
    "    print(item)"
   ]
  },
  {
   "cell_type": "markdown",
   "metadata": {},
   "source": [
    "set"
   ]
  },
  {
   "cell_type": "code",
   "execution_count": 22,
   "metadata": {},
   "outputs": [
    {
     "name": "stdout",
     "output_type": "stream",
     "text": [
      "{'orange', 'apple', 'pineapple', 'banana'}\n"
     ]
    }
   ],
   "source": [
    "list_ex=[\"apple\",\"pineapple\",\"banana\",\"apple\",\"apple\",\"orange\"]\n",
    "print(set(list_ex)) #converting to set\n",
    "\n"
   ]
  },
  {
   "cell_type": "code",
   "execution_count": 28,
   "metadata": {},
   "outputs": [
    {
     "name": "stdout",
     "output_type": "stream",
     "text": [
      "orange\n",
      "apple\n",
      "pineapple\n",
      "banana\n"
     ]
    }
   ],
   "source": [
    "list_ex=[\"apple\",\"pineapple\",\"banana\",\"apple\",\"apple\",\"orange\"]\n",
    "set_ex=set(list_ex)\n",
    "for item in set_ex:\n",
    "    print(item)\n"
   ]
  },
  {
   "cell_type": "code",
   "execution_count": 33,
   "metadata": {},
   "outputs": [
    {
     "name": "stdout",
     "output_type": "stream",
     "text": [
      "<class 'list'>\n",
      "<class 'set'>\n",
      "<class 'list'>\n"
     ]
    }
   ],
   "source": [
    "list_ex=[\"apple\",\"pineapple\",\"banana\",\"apple\",\"apple\",\"orange\"]\n",
    "set_ex=set(list_ex)\n",
    "back_to_list =list(set_ex)\n",
    "\n",
    "   \n",
    "print(type(list_ex))\n",
    "print(type(set_ex))\n",
    "print(type(back_to_list))"
   ]
  },
  {
   "cell_type": "markdown",
   "metadata": {},
   "source": [
    "write a program to accept 10 random strings identify the unique items and their count"
   ]
  },
  {
   "cell_type": "code",
   "execution_count": 97,
   "metadata": {},
   "outputs": [
    {
     "name": "stdout",
     "output_type": "stream",
     "text": [
      "['ria', 'sid', 'shr', 'ris', 'ik', 'bh', 'fg', '', 'sd', 'ngn']\n"
     ]
    }
   ],
   "source": [
    "list_a=[]\n",
    "def acceptRandom(string):\n",
    "    for i in range(0,10,1):\n",
    "        a=(input(\"enter the string\"))\n",
    "        list_a.append(a)\n",
    "acceptRandom(a)  \n",
    "print(list_a)        \n",
    "\n"
   ]
  },
  {
   "cell_type": "code",
   "execution_count": 100,
   "metadata": {},
   "outputs": [
    {
     "name": "stdout",
     "output_type": "stream",
     "text": [
      "ria is 1 times\n",
      "sid is 1 times\n",
      "shr is 1 times\n",
      "ris is 1 times\n",
      "ik is 1 times\n",
      "bh is 1 times\n",
      "fg is 1 times\n",
      " is 1 times\n",
      "sd is 1 times\n",
      "ngn is 1 times\n"
     ]
    }
   ],
   "source": [
    "\n",
    "uniqueset=(list_a)\n",
    "for item in list_a:\n",
    "    count=0\n",
    "    for i in list_a:\n",
    "        if item == i:\n",
    "            count=count+1\n",
    "    print(item,\"is\",count,\"times\")\n",
    "     \n"
   ]
  },
  {
   "cell_type": "markdown",
   "metadata": {},
   "source": [
    "dictionary"
   ]
  },
  {
   "cell_type": "code",
   "execution_count": 3,
   "metadata": {},
   "outputs": [
    {
     "name": "stdout",
     "output_type": "stream",
     "text": [
      "{'name': 'riya', 'age': 18, 'booleanval': 'True'}\n"
     ]
    }
   ],
   "source": [
    "my_dict ={\"name\":\"riya\",\n",
    "          \"age\":18,\n",
    "          \"booleanval\":\"True\"}\n",
    "print(my_dict)"
   ]
  },
  {
   "cell_type": "code",
   "execution_count": 4,
   "metadata": {},
   "outputs": [
    {
     "name": "stdout",
     "output_type": "stream",
     "text": [
      "riya\n"
     ]
    }
   ],
   "source": [
    "print(my_dict['name'])#access values"
   ]
  },
  {
   "cell_type": "code",
   "execution_count": 5,
   "metadata": {},
   "outputs": [
    {
     "name": "stdout",
     "output_type": "stream",
     "text": [
      "{'name': 'new name', 'age': 18, 'booleanval': 'True'}\n"
     ]
    }
   ],
   "source": [
    "#change name\n",
    "my_dict[\"name\"]=\"new name\"\n",
    "print(my_dict)"
   ]
  },
  {
   "cell_type": "code",
   "execution_count": 6,
   "metadata": {},
   "outputs": [
    {
     "name": "stdout",
     "output_type": "stream",
     "text": [
      "{'name': 'new name', 'age': 18, 'booleanval': 'True', 'phone': 8590791082}\n"
     ]
    }
   ],
   "source": [
    "#add new key\n",
    "my_dict['phone']=8590791082\n",
    "print(my_dict)"
   ]
  },
  {
   "cell_type": "code",
   "execution_count": 7,
   "metadata": {},
   "outputs": [
    {
     "data": {
      "text/plain": [
       "dict_values(['new name', 18, 'True', 8590791082])"
      ]
     },
     "execution_count": 7,
     "metadata": {},
     "output_type": "execute_result"
    }
   ],
   "source": [
    "my_dict.values()"
   ]
  },
  {
   "cell_type": "code",
   "execution_count": 8,
   "metadata": {},
   "outputs": [
    {
     "data": {
      "text/plain": [
       "dict_keys(['name', 'age', 'booleanval', 'phone'])"
      ]
     },
     "execution_count": 8,
     "metadata": {},
     "output_type": "execute_result"
    }
   ],
   "source": [
    "my_dict.keys()"
   ]
  },
  {
   "cell_type": "code",
   "execution_count": 23,
   "metadata": {},
   "outputs": [
    {
     "name": "stdout",
     "output_type": "stream",
     "text": [
      "{'mscdsa': {'01': {'name': 'eg', 'age': '20'}, '02': {'name': 'grtg', 'age': '9'}}}\n"
     ]
    }
   ],
   "source": [
    "student= {\n",
    "    \"mscdsa\": {\n",
    "        \"01\": {\n",
    "\n",
    "            \"name\":\"eg\",\n",
    "            \"age\":\"20\"\n",
    "        },\n",
    "        \"02\": {\n",
    "             \"name\":\"grtg\",\n",
    "             \"age\":\"9\"\n",
    "        }\n",
    "\n",
    "    }\n",
    "        \n",
    "}\n",
    "print(student)"
   ]
  },
  {
   "cell_type": "code",
   "execution_count": 25,
   "metadata": {},
   "outputs": [
    {
     "name": "stdout",
     "output_type": "stream",
     "text": [
      "{'name': 'eg', 'age': '20'}\n",
      "{'name': 'grtg', 'age': '9'}\n"
     ]
    }
   ],
   "source": [
    "print(student[\"mscdsa\"][\"01\"])#each line\n",
    "print(student[\"mscdsa\"][\"02\"])"
   ]
  },
  {
   "cell_type": "code",
   "execution_count": 31,
   "metadata": {},
   "outputs": [],
   "source": [
    "mscdsa=[\n",
    "    {\n",
    "        \"name\":\"riya\",\n",
    "        \"reg no\":\"23122028\",\n",
    "        \"phno\":\"8590791082\",\n",
    "    },\n",
    "    {\n",
    "        \"name\":\"siya\",\n",
    "        \"reg no\":\"23122029\",\n",
    "        \"phno\": \"8590791892\",\n",
    "    },\n",
    "    {\n",
    "        \"name\":\"diya\",\n",
    "        \"reg no\":\"23122023\",\n",
    "        \"phno\": \"8589791892\", \n",
    "    }     \n",
    "]\n"
   ]
  },
  {
   "cell_type": "code",
   "execution_count": 9,
   "metadata": {},
   "outputs": [
    {
     "ename": "SyntaxError",
     "evalue": "invalid syntax. Perhaps you forgot a comma? (1909256246.py, line 1)",
     "output_type": "error",
     "traceback": [
      "\u001b[1;36m  Cell \u001b[1;32mIn[9], line 1\u001b[1;36m\u001b[0m\n\u001b[1;33m    print(mscdsa end='\\t')\u001b[0m\n\u001b[1;37m          ^\u001b[0m\n\u001b[1;31mSyntaxError\u001b[0m\u001b[1;31m:\u001b[0m invalid syntax. Perhaps you forgot a comma?\n"
     ]
    }
   ],
   "source": [
    "print(mscdsa end)"
   ]
  },
  {
   "cell_type": "code",
   "execution_count": 43,
   "metadata": {},
   "outputs": [
    {
     "name": "stdout",
     "output_type": "stream",
     "text": [
      "{'name': 'riya', 'reg no': '23122028', 'phno': '8590791082'}\n",
      "riya\t23122028\t8590791082\t{'name': 'siya', 'reg no': '23122029', 'phno': '8590791892'}\n",
      "siya\t23122029\t8590791892\t{'name': 'diya', 'reg no': '23122023', 'phno': '8589791892'}\n",
      "diya\t23122023\t8589791892\t\n"
     ]
    }
   ],
   "source": [
    "for student in mscdsa:\n",
    "    print(student)\n",
    "    for key in student.keys():\n",
    "        print(student[key],end=\"\\t\")\n",
    "print()\n"
   ]
  },
  {
   "cell_type": "markdown",
   "metadata": {},
   "source": []
  },
  {
   "cell_type": "code",
   "execution_count": null,
   "metadata": {},
   "outputs": [],
   "source": []
  },
  {
   "cell_type": "code",
   "execution_count": null,
   "metadata": {},
   "outputs": [
    {
     "name": "stdout",
     "output_type": "stream",
     "text": [
      "******************************\n",
      "1.enter the name\n",
      "2.list the names\n",
      "3.search for a name\n",
      "4.exit\n",
      "******************************\n",
      "enterd choice is 4\n",
      "******************************\n",
      "1.enter the name\n",
      "2.list the names\n",
      "3.search for a name\n",
      "4.exit\n",
      "******************************\n",
      "enterd choice is 5\n",
      "invalid option\n",
      "******************************\n",
      "1.enter the name\n",
      "2.list the names\n",
      "3.search for a name\n",
      "4.exit\n",
      "******************************\n",
      "enterd choice is 2\n",
      "******************************\n",
      "names in the list\n",
      "******************************\n",
      "******************************\n",
      "******************************\n",
      "1.enter the name\n",
      "2.list the names\n",
      "3.search for a name\n",
      "4.exit\n",
      "******************************\n",
      "enterd choice is 3\n"
     ]
    },
    {
     "ename": "",
     "evalue": "",
     "output_type": "error",
     "traceback": [
      "\u001b[1;31mCannot execute code, session has been disposed. Please try restarting the Kernel."
     ]
    },
    {
     "ename": "",
     "evalue": "",
     "output_type": "error",
     "traceback": [
      "\u001b[1;31mThe Kernel crashed while executing code in the the current cell or a previous cell. Please review the code in the cell(s) to identify a possible cause of the failure. Click <a href='https://aka.ms/vscodeJupyterKernelCrash'>here</a> for more info. View Jupyter <a href='command:jupyter.viewOutput'>log</a> for further details."
     ]
    }
   ],
   "source": [
    "nameList =[]\n",
    "def storeName():\n",
    "    name=input(\"enter the name:\")\n",
    "    name=name.strip().title()\n",
    "    nameList.append(name)\n",
    "    return name\n",
    "\n",
    "def listNames():\n",
    "    print(\"*\"*30)\n",
    "    print(\"names in the list\")\n",
    "    print(\"*\"*30) \n",
    "    for name in nameList:\n",
    "        print(name)\n",
    "    print(\"*\"*30)\n",
    "\n",
    "def searchName(search):\n",
    "    search=search.strip().title()\n",
    "    for name in nameList:\n",
    "        if name ==search:\n",
    "            print(\"name exist in the list\")    \n",
    " \n",
    "while True:\n",
    "    print(\"*\"*30)\n",
    "    print(\"1.enter the name\")\n",
    "    print(\"2.list the names\")\n",
    "    print(\"3.search for a name\")\n",
    "    print(\"4.exit\")\n",
    "    print(\"*\"*30)\n",
    "\n",
    "    choice=input(\"enter the choice\")\n",
    "    print(\"enterd choice is\",choice)\n",
    "\n",
    "    if choice==\"1\":\n",
    "        name=storeName()\n",
    "        print(\"name {} added successfully\".format(name))#to add name in curly brackets\n",
    "    elif choice==\"2\":\n",
    "        listNames()\n",
    "    elif choice ==\"3\":\n",
    "        name=input(\"enter the name to be searched\")\n",
    "        searchName(name)\n",
    "    elif choice ==\"4\":\n",
    "        exit()\n",
    "    else:\n",
    "        print(\"invalid option\")        "
   ]
  },
  {
   "cell_type": "code",
   "execution_count": null,
   "metadata": {},
   "outputs": [
    {
     "name": "stdout",
     "output_type": "stream",
     "text": [
      "******************************\n",
      "1.enter the name\n",
      "2.list the names\n",
      "3.search for a name\n",
      "4.exit\n",
      "******************************\n",
      "enterd choice is 2\n",
      "******************************\n",
      "names in the list\n",
      "******************************\n",
      "******************************\n",
      "******************************\n",
      "1.enter the name\n",
      "2.list the names\n",
      "3.search for a name\n",
      "4.exit\n",
      "******************************\n",
      "enterd choice is 3\n",
      "******************************\n",
      "1.enter the name\n",
      "2.list the names\n",
      "3.search for a name\n",
      "4.exit\n",
      "******************************\n",
      "enterd choice is 3\n",
      "******************************\n",
      "1.enter the name\n",
      "2.list the names\n",
      "3.search for a name\n",
      "4.exit\n",
      "******************************\n",
      "enterd choice is 4\n",
      "******************************\n",
      "1.enter the name\n",
      "2.list the names\n",
      "3.search for a name\n",
      "4.exit\n",
      "******************************\n",
      "enterd choice is 3\n",
      "******************************\n",
      "1.enter the name\n",
      "2.list the names\n",
      "3.search for a name\n",
      "4.exit\n",
      "******************************\n"
     ]
    },
    {
     "ename": "",
     "evalue": "",
     "output_type": "error",
     "traceback": [
      "\u001b[1;31mCannot execute code, session has been disposed. Please try restarting the Kernel."
     ]
    },
    {
     "ename": "",
     "evalue": "",
     "output_type": "error",
     "traceback": [
      "\u001b[1;31mThe Kernel crashed while executing code in the the current cell or a previous cell. Please review the code in the cell(s) to identify a possible cause of the failure. Click <a href='https://aka.ms/vscodeJupyterKernelCrash'>here</a> for more info. View Jupyter <a href='command:jupyter.viewOutput'>log</a> for further details."
     ]
    }
   ],
   "source": [
    "nameList =[]\n",
    "def storeName():\n",
    "    name=input(\"enter the name:\")\n",
    "    name=name.strip().title()\n",
    "    nameList.append(name)\n",
    "    return name\n",
    "\n",
    "def listNames():\n",
    "    print(\"*\"*30)\n",
    "    print(\"names in the list\")\n",
    "    print(\"*\"*30) \n",
    "    for name in nameList:\n",
    "        print(name)\n",
    "    print(\"*\"*30)\n",
    "\n",
    "def searchName(search):\n",
    "    search=search.strip().title()\n",
    "    for name in nameList:\n",
    "        if name ==search:\n",
    "            print(\"name exist in the list\")    \n",
    " \n",
    "while True:\n",
    "    print(\"*\"*30)\n",
    "    print(\"1.enter the name\")\n",
    "    print(\"2.list the names\")\n",
    "    print(\"3.search for a name\")\n",
    "    print(\"4.exit\")\n",
    "    print(\"*\"*30)\n",
    "\n",
    "    choice=input(\"enter the choice\")\n",
    "    print(\"enterd choice is\",choice)\n",
    "\n",
    "    if choice==\"1\":\n",
    "        name=storeName()\n",
    "        print(\"name {} added successfully\".format(name))#to add name in curly brackets\n",
    "    elif choice==\"2\":\n",
    "        listNames()\n",
    "    elif choice ==\"3\":\n",
    "        name=input(\"enter the name to be searched\")\n",
    "        searchName(name)\n",
    "    elif choice ==\"4\":\n",
    "        exit()\n",
    "    else:\n",
    "        print(\"invalid option\")   "
   ]
  },
  {
   "cell_type": "code",
   "execution_count": 2,
   "metadata": {},
   "outputs": [
    {
     "name": "stdout",
     "output_type": "stream",
     "text": [
      "3\n"
     ]
    }
   ],
   "source": [
    "a=int(input(\"enter\"))\n",
    "print(a)"
   ]
  },
  {
   "cell_type": "code",
   "execution_count": 1,
   "metadata": {},
   "outputs": [
    {
     "name": "stdout",
     "output_type": "stream",
     "text": [
      "[{'name': 'ria', 'reg no': '94652', 'phone': '4512', 'email': '4512'}]\n"
     ]
    },
    {
     "ename": "UnboundLocalError",
     "evalue": "cannot access local variable 'search' where it is not associated with a value",
     "output_type": "error",
     "traceback": [
      "\u001b[1;31m---------------------------------------------------------------------------\u001b[0m",
      "\u001b[1;31mUnboundLocalError\u001b[0m                         Traceback (most recent call last)",
      "\u001b[1;32md:\\CHRIST\\Python\\basics.ipynb Cell 99\u001b[0m line \u001b[0;36m2\n\u001b[0;32m     <a href='vscode-notebook-cell:/d%3A/CHRIST/Python/basics.ipynb#Y200sZmlsZQ%3D%3D?line=22'>23</a>\u001b[0m         \u001b[39mif\u001b[39;00m regno \u001b[39m==\u001b[39msearch:\n\u001b[0;32m     <a href='vscode-notebook-cell:/d%3A/CHRIST/Python/basics.ipynb#Y200sZmlsZQ%3D%3D?line=23'>24</a>\u001b[0m             \u001b[39mprint\u001b[39m()\n\u001b[1;32m---> <a href='vscode-notebook-cell:/d%3A/CHRIST/Python/basics.ipynb#Y200sZmlsZQ%3D%3D?line=24'>25</a>\u001b[0m searchRegno()            \n",
      "\u001b[1;32md:\\CHRIST\\Python\\basics.ipynb Cell 99\u001b[0m line \u001b[0;36m2\n\u001b[0;32m     <a href='vscode-notebook-cell:/d%3A/CHRIST/Python/basics.ipynb#Y200sZmlsZQ%3D%3D?line=19'>20</a>\u001b[0m \u001b[39mdef\u001b[39;00m \u001b[39msearchRegno\u001b[39m():\n\u001b[1;32m---> <a href='vscode-notebook-cell:/d%3A/CHRIST/Python/basics.ipynb#Y200sZmlsZQ%3D%3D?line=20'>21</a>\u001b[0m     search\u001b[39m=\u001b[39msearch\u001b[39m.\u001b[39mstrip()\u001b[39m.\u001b[39mtitle\n\u001b[0;32m     <a href='vscode-notebook-cell:/d%3A/CHRIST/Python/basics.ipynb#Y200sZmlsZQ%3D%3D?line=21'>22</a>\u001b[0m     \u001b[39mfor\u001b[39;00m regno \u001b[39min\u001b[39;00m my_list:\n\u001b[0;32m     <a href='vscode-notebook-cell:/d%3A/CHRIST/Python/basics.ipynb#Y200sZmlsZQ%3D%3D?line=22'>23</a>\u001b[0m         \u001b[39mif\u001b[39;00m regno \u001b[39m==\u001b[39msearch:\n",
      "\u001b[1;31mUnboundLocalError\u001b[0m: cannot access local variable 'search' where it is not associated with a value"
     ]
    }
   ],
   "source": [
    "#get details of students ,check if reg no already exist if exist replace all the details with a new one\n",
    "#search using register number and print all the details\n",
    "\n",
    "\n",
    "my_list=[]\n",
    "name=input(\"enter the name\")\n",
    "regno=input(\"enter the regno\")\n",
    "phno=input(\"enter the phone number\")\n",
    "emailid=input(\"enter the mailid\")\n",
    "detail={\n",
    "        \"name\":name ,\n",
    "        \"reg no\":regno,\n",
    "        \"phone\":phno,\n",
    "        \"email\":emailid\n",
    "    }\n",
    "    \n",
    "my_list.append(detail)\n",
    "print(my_list)\n",
    "\n",
    "def searchRegno():\n",
    "    search=search.strip().title\n",
    "    for regno in my_list:\n",
    "        if regno ==search:\n",
    "            print()\n",
    "searchRegno()            \n",
    "              \n",
    "            \n",
    "\n"
   ]
  },
  {
   "cell_type": "markdown",
   "metadata": {},
   "source": [
    "develop a contact managment program where isers can add,edit,delete and search new contact details using a dictionary.the menue options would facilitate these actions."
   ]
  },
  {
   "cell_type": "code",
   "execution_count": 6,
   "metadata": {},
   "outputs": [
    {
     "ename": "NameError",
     "evalue": "name 'name' is not defined",
     "output_type": "error",
     "traceback": [
      "\u001b[1;31m---------------------------------------------------------------------------\u001b[0m",
      "\u001b[1;31mNameError\u001b[0m                                 Traceback (most recent call last)",
      "\u001b[1;32md:\\CHRIST\\Python\\basics.ipynb Cell 101\u001b[0m line \u001b[0;36m3\n\u001b[0;32m      <a href='vscode-notebook-cell:/d%3A/CHRIST/Python/basics.ipynb#Y202sZmlsZQ%3D%3D?line=0'>1</a>\u001b[0m listContact\u001b[39m=\u001b[39m[]\n\u001b[0;32m      <a href='vscode-notebook-cell:/d%3A/CHRIST/Python/basics.ipynb#Y202sZmlsZQ%3D%3D?line=1'>2</a>\u001b[0m contact\u001b[39m=\u001b[39m{} \n\u001b[1;32m----> <a href='vscode-notebook-cell:/d%3A/CHRIST/Python/basics.ipynb#Y202sZmlsZQ%3D%3D?line=2'>3</a>\u001b[0m contact[\u001b[39m\"\u001b[39m\u001b[39mname1\u001b[39m\u001b[39m\"\u001b[39m]\u001b[39m=\u001b[39mname\n\u001b[0;32m      <a href='vscode-notebook-cell:/d%3A/CHRIST/Python/basics.ipynb#Y202sZmlsZQ%3D%3D?line=3'>4</a>\u001b[0m contact[\u001b[39m\"\u001b[39m\u001b[39mphn\u001b[39m\u001b[39m\"\u001b[39m]\u001b[39m=\u001b[39mphno   \n\u001b[0;32m      <a href='vscode-notebook-cell:/d%3A/CHRIST/Python/basics.ipynb#Y202sZmlsZQ%3D%3D?line=4'>5</a>\u001b[0m \u001b[39mdef\u001b[39;00m \u001b[39maddContact\u001b[39m():\n",
      "\u001b[1;31mNameError\u001b[0m: name 'name' is not defined"
     ]
    }
   ],
   "source": [
    "listContact=[]\n",
    "contact={} \n",
    "\n",
    "def addContact():\n",
    "    contact={\"name1\":name,\"phn\":phno}\n",
    "    name=input(\"enter the name\")\n",
    "    phno=input(\"enter the phonenumber\")\n",
    "    contact[\"name\"]=name\n",
    "    contact[\"phn\"]=phno\n",
    "    listContact.append(contact)\n",
    "    print(listContact)\n",
    "\n",
    "\n",
    "\n",
    "    \n",
    "\n",
    "    \n",
    "    \n"
   ]
  },
  {
   "cell_type": "code",
   "execution_count": 2,
   "metadata": {},
   "outputs": [],
   "source": [
    "def searchContact():\n",
    "    search=(\"enter the name to be searched\")\n",
    "    for name in contact:\n",
    "        if name == search:\n",
    "            newname=input(\"enter the name\")\n",
    "            newphonenum=input(\"enter the phone number\")\n",
    "            listContact[name]={\"name\":newname,\"phonenum\":newphonenum}\n",
    "\n",
    "\n",
    "\n",
    "\n"
   ]
  },
  {
   "cell_type": "code",
   "execution_count": 1,
   "metadata": {},
   "outputs": [
    {
     "name": "stdout",
     "output_type": "stream",
     "text": [
      "1.add\n",
      "2.edit\n",
      "3.delete\n",
      "4.search\n"
     ]
    },
    {
     "ename": "NameError",
     "evalue": "name 'contact' is not defined",
     "output_type": "error",
     "traceback": [
      "\u001b[1;31m---------------------------------------------------------------------------\u001b[0m",
      "\u001b[1;31mNameError\u001b[0m                                 Traceback (most recent call last)",
      "\u001b[1;32md:\\CHRIST\\Python\\basics.ipynb Cell 103\u001b[0m line \u001b[0;36m2\n\u001b[0;32m     <a href='vscode-notebook-cell:/d%3A/CHRIST/Python/basics.ipynb#Y204sZmlsZQ%3D%3D?line=17'>18</a>\u001b[0m     addContact()\n\u001b[0;32m     <a href='vscode-notebook-cell:/d%3A/CHRIST/Python/basics.ipynb#Y204sZmlsZQ%3D%3D?line=18'>19</a>\u001b[0m \u001b[39melif\u001b[39;00m choice\u001b[39m==\u001b[39m\u001b[39m'\u001b[39m\u001b[39m2\u001b[39m\u001b[39m'\u001b[39m:\n\u001b[1;32m---> <a href='vscode-notebook-cell:/d%3A/CHRIST/Python/basics.ipynb#Y204sZmlsZQ%3D%3D?line=19'>20</a>\u001b[0m     editContact()\n\u001b[0;32m     <a href='vscode-notebook-cell:/d%3A/CHRIST/Python/basics.ipynb#Y204sZmlsZQ%3D%3D?line=20'>21</a>\u001b[0m \u001b[39melif\u001b[39;00m choice\u001b[39m==\u001b[39m\u001b[39m'\u001b[39m\u001b[39m3\u001b[39m\u001b[39m'\u001b[39m:\n\u001b[0;32m     <a href='vscode-notebook-cell:/d%3A/CHRIST/Python/basics.ipynb#Y204sZmlsZQ%3D%3D?line=21'>22</a>\u001b[0m     deleteContact()\n",
      "\u001b[1;32md:\\CHRIST\\Python\\basics.ipynb Cell 103\u001b[0m line \u001b[0;36m7\n\u001b[0;32m      <a href='vscode-notebook-cell:/d%3A/CHRIST/Python/basics.ipynb#Y204sZmlsZQ%3D%3D?line=4'>5</a>\u001b[0m \u001b[39mdef\u001b[39;00m \u001b[39meditContact\u001b[39m():\n\u001b[0;32m      <a href='vscode-notebook-cell:/d%3A/CHRIST/Python/basics.ipynb#Y204sZmlsZQ%3D%3D?line=5'>6</a>\u001b[0m     e\u001b[39m=\u001b[39m\u001b[39minput\u001b[39m(\u001b[39m\"\u001b[39m\u001b[39menter the contact to be updated\u001b[39m\u001b[39m\"\u001b[39m)\n\u001b[1;32m----> <a href='vscode-notebook-cell:/d%3A/CHRIST/Python/basics.ipynb#Y204sZmlsZQ%3D%3D?line=6'>7</a>\u001b[0m     contact\u001b[39m.\u001b[39mupdate(e)\n",
      "\u001b[1;31mNameError\u001b[0m: name 'contact' is not defined"
     ]
    }
   ],
   "source": [
    "def deleteContact():\n",
    "    n=input(\"enter the name to be deleted\")\n",
    "    contact.pop(n)\n",
    "\n",
    "def editContact():\n",
    "    e=input(\"enter the contact to be updated\")\n",
    "    contact.update(e)\n",
    "\n",
    "while True:\n",
    "  \n",
    "    print(\"1.add\")\n",
    "    print(\"2.edit\")\n",
    "    print(\"3.delete\")\n",
    "    print(\"4.search\")\n",
    "\n",
    "    choice=input(\"enter the choice\")\n",
    "    if choice=='1':\n",
    "        addContact()\n",
    "    elif choice=='2':\n",
    "        editContact()\n",
    "    elif choice=='3':\n",
    "        deleteContact()\n",
    "    elif choice=='4':\n",
    "        searchContact()\n",
    "    else:\n",
    "        pass"
   ]
  },
  {
   "cell_type": "code",
   "execution_count": 1,
   "metadata": {},
   "outputs": [
    {
     "name": "stdout",
     "output_type": "stream",
     "text": [
      "5050\n"
     ]
    }
   ],
   "source": [
    "sum=0\n",
    "for i in range(1,101):\n",
    "    sum=sum+i\n",
    "    i=i+1\n",
    "print(sum)"
   ]
  },
  {
   "cell_type": "code",
   "execution_count": 3,
   "metadata": {},
   "outputs": [
    {
     "ename": "SyntaxError",
     "evalue": "invalid syntax (1057168591.py, line 12)",
     "output_type": "error",
     "traceback": [
      "\u001b[1;36m  Cell \u001b[1;32mIn[3], line 12\u001b[1;36m\u001b[0m\n\u001b[1;33m    \"grade\":\"75\"\u001b[0m\n\u001b[1;37m           ^\u001b[0m\n\u001b[1;31mSyntaxError\u001b[0m\u001b[1;31m:\u001b[0m invalid syntax\n"
     ]
    }
   ],
   "source": [
    "student_grades={\n",
    "    {\n",
    "    \"name\":\"alice\",\n",
    "    \"grade\":\"80\"\n",
    "    },\n",
    "    {\n",
    "    \"name\":\"bob\",\n",
    "    \"grade\":\"90\"\n",
    "    },\n",
    "    {\n",
    "    \"name\":\"carol\"\n",
    "    \"grade\":\"75\"\n",
    "    }\n",
    "]\n",
    "print(student_grades)"
   ]
  },
  {
   "cell_type": "markdown",
   "metadata": {},
   "source": [
    "class"
   ]
  },
  {
   "cell_type": "markdown",
   "metadata": {},
   "source": [
    "define a class expense tracker that stores the expenses\n",
    "and income in a dictionary. implement the method to \n",
    "store transaction\n",
    "view transaction\n",
    "calculate the total expense/income."
   ]
  },
  {
   "cell_type": "code",
   "execution_count": 1,
   "metadata": {},
   "outputs": [
    {
     "name": "stdout",
     "output_type": "stream",
     "text": [
      "income\n",
      "{'category': 'electricity bill', 'cost': 4500, 'description': 'mdhc', 'date': '17/02/2023'}\n",
      "expenses\n",
      "{'category': 'food', 'cost': 450, 'description': '1980a', 'date': '02/12/2023'}\n",
      "{'category': 'shopping', 'cost': 500, 'description': 'lulu', 'date': '27/07/2023'}\n",
      "total income\n",
      "4500\n",
      "total expense\n",
      "950\n"
     ]
    }
   ],
   "source": [
    "class expensetracker():\n",
    "    def __init__(self):#data members are kept with in init, init inizialising value for variables\n",
    "        self.transactions={\n",
    "            \"expenses\":[],\n",
    "            \"income\":[],\n",
    "        }\n",
    "\n",
    "    def storeTransaction(self,type,category,cost,desc,date):\n",
    "        transaction={\n",
    "            \"category\":category,\n",
    "            \"cost\":cost,\n",
    "            \"description\":desc,\n",
    "            \"date\":date,\n",
    "        }\n",
    "        if type ==\"expense\":\n",
    "            self.transactions['expenses'].append(transaction)\n",
    "        else:\n",
    "            self.transactions['income'].append(transaction)\n",
    "        #type:expense/income\n",
    "        #category\n",
    "        #cost/amount\n",
    "        #description of transaction\n",
    "        #date\n",
    "        return True\n",
    "\n",
    "    def view_transactions(self):\n",
    "        print(\"income\")\n",
    "        for i in self.transactions['income']:\n",
    "            print(i)\n",
    "        print(\"expenses\")\n",
    "        for i in self.transactions['expenses']:\n",
    "            print(i)\n",
    "    def total_incomeexpense(self):\n",
    "        print(\"total income\")\n",
    "        total_income=0\n",
    "        for income in self.transactions['income']:\n",
    "            total_income+=income[\"cost\"]\n",
    "        print(total_income)\n",
    "\n",
    "        print(\"total expense\")\n",
    "        total_expense=0\n",
    "        for expenses in self.transactions['expenses']:\n",
    "            total_expense+=expenses[\"cost\"]\n",
    "        print(total_expense)\n",
    "\n",
    "#object\n",
    "mytransactions = expensetracker()\n",
    "mytransactions.storeTransaction(\"income\",\"electricity bill\",4500,\"mdhc\",\"17/02/2023\")\n",
    "mytransactions.storeTransaction(\"expense\",\"food\",450,\"1980a\",\"02/12/2023\")\n",
    "mytransactions.storeTransaction(\"expense\",\"shopping\",500,\"lulu\",\"27/07/2023\")\n",
    "\n",
    "mytransactions.view_transactions()\n",
    "\n",
    "mytransactions.total_incomeexpense()\n",
    "    "
   ]
  },
  {
   "cell_type": "code",
   "execution_count": null,
   "metadata": {},
   "outputs": [],
   "source": [
    "list=['gf','gfd','gfds']\n"
   ]
  }
 ],
 "metadata": {
  "kernelspec": {
   "display_name": "Python 3",
   "language": "python",
   "name": "python3"
  },
  "language_info": {
   "codemirror_mode": {
    "name": "ipython",
    "version": 3
   },
   "file_extension": ".py",
   "mimetype": "text/x-python",
   "name": "python",
   "nbconvert_exporter": "python",
   "pygments_lexer": "ipython3",
   "version": "3.11.5"
  },
  "orig_nbformat": 4
 },
 "nbformat": 4,
 "nbformat_minor": 2
}
