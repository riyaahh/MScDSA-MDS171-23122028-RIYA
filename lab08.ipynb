{
 "cells": [
  {
   "cell_type": "markdown",
   "metadata": {},
   "source": [
    "Matrix Multiplication\n",
    "\n",
    "Jeeva, a mathematical expert, is looking for an expert in programming who can assist him in creating a Python program for Matrix Multiplication.\n",
    "\n",
    "His program has specific requirements.\n",
    "\n",
    "The matrices have to be saved inside a dictionary.\n",
    "The keys allowed in the dictionary are [matrix 1, matrix 2, result matrix]\n",
    "The values for the elements in the rows of the matrix have to be saved in the form of a list of lists [[row1][row2]].\n",
    "You must have functions for collecting the matrix and store in the dictionary.\n",
    "Another function to Process the matrix and store it in the dictionary. \n",
    "Another function to Display the result in a file, properly formatted.\n",
    "Menu option to show enter matrix 1, matrix 2, calculate, export to file. If the matrix has been entered, then it should take confirmation from the user before taking the input for matrix 1 or 2 again."
   ]
  },
  {
   "cell_type": "code",
   "execution_count": 1,
   "metadata": {},
   "outputs": [],
   "source": [
    "import numpy as np\n",
    "Matrix1=[]\n",
    "def add_matrix1():\n",
    "    global r1\n",
    "    global c1\n",
    "    r1=int(input(\"Enter no of rows:\"))\n",
    "    c1=int(input(\"Enter no of columns:\"))\n",
    "    for i in range(r1):\n",
    "        a=[]\n",
    "        for j in range(c1):\n",
    "            b=int(input(\"Enter a number:\"))\n",
    "            a.append(b)\n",
    "        Matrix1.append(a)\n",
    "    print(\"First matrix:\\n\",np.matrix(Matrix1))\n",
    "\n",
    "\n"
   ]
  },
  {
   "cell_type": "code",
   "execution_count": 2,
   "metadata": {},
   "outputs": [],
   "source": [
    "Matrix2=[]\n",
    "def add_matrix2():\n",
    "    global r2\n",
    "    global c2\n",
    "    r2=int(input(\"Enter no of rows:\"))\n",
    "    c2=int(input(\"Enter no of columns:\"))\n",
    "    for i in range(r2):\n",
    "        x=[]\n",
    "        for j in range(c2):\n",
    "            z=int(input(\"Enter a number:\"))\n",
    "            x.append(z)\n",
    "        Matrix2.append(x)\n",
    "    print(\"Second matrix:\\n\",np.matrix(Matrix2))\n",
    "\n",
    "\n"
   ]
  },
  {
   "cell_type": "code",
   "execution_count": 3,
   "metadata": {},
   "outputs": [],
   "source": [
    "prod_matrix=[]\n",
    "def product_matrix():\n",
    "    if r1==c2:\n",
    "\n",
    "        p=(np.matrix(Matrix1)*np.matrix(Matrix2))#matrix format\n",
    "        prod_matrix.append(p)\n",
    "        print(prod_matrix)\n",
    "    else:\n",
    "        print(\"not possible\")\n",
    "    dict={\"Matrix 1\":Matrix1,\"Matrix 2\":Matrix2,\"Product\":prod_matrix}\n",
    "    print(dict)\n",
    "\n",
    "\n"
   ]
  },
  {
   "cell_type": "code",
   "execution_count": 4,
   "metadata": {},
   "outputs": [],
   "source": [
    "def exportFile():\n",
    "    file=open(\"matrix.txt\",\"a+\")\n",
    "    file.write(\"\\n\"+str(dict))\n",
    "    file.close()"
   ]
  },
  {
   "cell_type": "code",
   "execution_count": null,
   "metadata": {},
   "outputs": [
    {
     "name": "stdout",
     "output_type": "stream",
     "text": [
      "enter your choice\n",
      "1. add matrix1\n",
      "2.add matrix2\n",
      "3.calculate\n",
      "4.export to file\n",
      "First matrix:\n",
      " [[2 4 7]\n",
      " [8 9 6]\n",
      " [1 2 4]]\n",
      "enter your choice\n",
      "1. add matrix1\n",
      "2.add matrix2\n",
      "3.calculate\n",
      "4.export to file\n",
      "Second matrix:\n",
      " [[2 4 9]\n",
      " [6 2 7]\n",
      " [5 2 9]]\n",
      "enter your choice\n",
      "1. add matrix1\n",
      "2.add matrix2\n",
      "3.calculate\n",
      "4.export to file\n",
      "[matrix([[ 63,  30, 109],\n",
      "        [100,  62, 189],\n",
      "        [ 34,  16,  59]])]\n",
      "{'Matrix 1': [[2, 4, 7], [8, 9, 6], [1, 2, 4]], 'Matrix 2': [[2, 4, 9], [6, 2, 7], [5, 2, 9]], 'Product': [matrix([[ 63,  30, 109],\n",
      "        [100,  62, 189],\n",
      "        [ 34,  16,  59]])]}\n",
      "enter your choice\n",
      "1. add matrix1\n",
      "2.add matrix2\n",
      "3.calculate\n",
      "4.export to file\n",
      "enter your choice\n",
      "1. add matrix1\n",
      "2.add matrix2\n",
      "3.calculate\n",
      "4.export to file\n",
      "enter your choice\n",
      "1. add matrix1\n",
      "2.add matrix2\n",
      "3.calculate\n",
      "4.export to file\n",
      "enter your choice\n",
      "1. add matrix1\n",
      "2.add matrix2\n",
      "3.calculate\n",
      "4.export to file\n",
      "enter your choice\n",
      "1. add matrix1\n",
      "2.add matrix2\n",
      "3.calculate\n",
      "4.export to file\n"
     ]
    },
    {
     "ename": "",
     "evalue": "",
     "output_type": "error",
     "traceback": [
      "\u001b[1;31mThe Kernel crashed while executing code in the the current cell or a previous cell. Please review the code in the cell(s) to identify a possible cause of the failure. Click <a href='https://aka.ms/vscodeJupyterKernelCrash'>here</a> for more info. View Jupyter <a href='command:jupyter.viewOutput'>log</a> for further details."
     ]
    }
   ],
   "source": [
    "\n",
    "while True:\n",
    "\n",
    "    print(\"enter your choice\")\n",
    "    print(\"1. add matrix1\")\n",
    "    print(\"2.add matrix2\")\n",
    "    print(\"3.calculate\")\n",
    "    print(\"4.export to file\")   \n",
    "\n",
    "    choice=input(\"enter your choice\")\n",
    "\n",
    "    if choice==\"1\":\n",
    "        add_matrix1()\n",
    "    elif choice==\"2\":\n",
    "        add_matrix2()\n",
    "    elif choice==\"3\":\n",
    "        product_matrix()\n",
    "    elif choice==\"4\":\n",
    "        exportFile()\n",
    "    else:\n",
    "        exit()\n",
    "    \n",
    "        \n",
    "        \n",
    "\n"
   ]
  }
 ],
 "metadata": {
  "kernelspec": {
   "display_name": "Python 3",
   "language": "python",
   "name": "python3"
  },
  "language_info": {
   "codemirror_mode": {
    "name": "ipython",
    "version": 3
   },
   "file_extension": ".py",
   "mimetype": "text/x-python",
   "name": "python",
   "nbconvert_exporter": "python",
   "pygments_lexer": "ipython3",
   "version": "3.11.5"
  },
  "orig_nbformat": 4
 },
 "nbformat": 4,
 "nbformat_minor": 2
}
