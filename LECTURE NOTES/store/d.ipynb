{
 "cells": [
  {
   "cell_type": "code",
   "execution_count": 7,
   "metadata": {},
   "outputs": [
    {
     "ename": "TypeError",
     "evalue": "sportMart.createOrder() missing 2 required positional arguments: 'Price' and 'Total'",
     "output_type": "error",
     "traceback": [
      "\u001b[1;31m---------------------------------------------------------------------------\u001b[0m",
      "\u001b[1;31mTypeError\u001b[0m                                 Traceback (most recent call last)",
      "\u001b[1;32md:\\CHRIST\\sem 1\\Python\\store\\d.ipynb Cell 1\u001b[0m line \u001b[0;36m4\n\u001b[0;32m     <a href='vscode-notebook-cell:/d%3A/CHRIST/sem%201/Python/store/d.ipynb#W1sZmlsZQ%3D%3D?line=43'>44</a>\u001b[0m \u001b[39mfor\u001b[39;00m item \u001b[39min\u001b[39;00m orders_orders:\n\u001b[0;32m     <a href='vscode-notebook-cell:/d%3A/CHRIST/sem%201/Python/store/d.ipynb#W1sZmlsZQ%3D%3D?line=44'>45</a>\u001b[0m     temp \u001b[39m=\u001b[39m item\u001b[39m.\u001b[39mstrip()\u001b[39m.\u001b[39msplit(\u001b[39m'\u001b[39m\u001b[39m,\u001b[39m\u001b[39m'\u001b[39m)\n\u001b[1;32m---> <a href='vscode-notebook-cell:/d%3A/CHRIST/sem%201/Python/store/d.ipynb#W1sZmlsZQ%3D%3D?line=45'>46</a>\u001b[0m     trinity\u001b[39m.\u001b[39;49mcreateOrder(temp[\u001b[39m0\u001b[39;49m],temp[\u001b[39m1\u001b[39;49m],temp[\u001b[39m2\u001b[39;49m])\n\u001b[0;32m     <a href='vscode-notebook-cell:/d%3A/CHRIST/sem%201/Python/store/d.ipynb#W1sZmlsZQ%3D%3D?line=47'>48</a>\u001b[0m trinity\u001b[39m.\u001b[39mprintOrders()\n\u001b[0;32m     <a href='vscode-notebook-cell:/d%3A/CHRIST/sem%201/Python/store/d.ipynb#W1sZmlsZQ%3D%3D?line=48'>49</a>\u001b[0m trinity\u001b[39m.\u001b[39mupdateInventory()\n",
      "\u001b[1;31mTypeError\u001b[0m: sportMart.createOrder() missing 2 required positional arguments: 'Price' and 'Total'"
     ]
    }
   ],
   "source": [
    "class sportMart:\n",
    "\n",
    "    def _init_(self):\n",
    "        self.inventory = {}\n",
    "        self.orders = {}\n",
    "\n",
    "    def createOrder(self,Orderid,Item,Quantity,Price,Total):\n",
    "        temp = {\n",
    "            'Orderid' : Orderid ,\n",
    "            'Item' : Item ,\n",
    "            'Quantity' : Quantity ,\n",
    "            'Price' : Price ,\n",
    "            'Total' : Total\n",
    "        }\n",
    "\n",
    "        self.orders[Orderid] = temp\n",
    "\n",
    "    def addinventory(self,Products,Name,Quantity,Price_per_piece):\n",
    "        add = {\n",
    "            'Productid' : Products ,\n",
    "            'Itemname' : Name ,\n",
    "            'Quantity' : Quantity ,\n",
    "            'Price' : Price_per_piece\n",
    "        }\n",
    "\n",
    "        self.inventory[Products] = add\n",
    "\n",
    "    def printInventory(self):\n",
    "        print(self.inventory)\n",
    "\n",
    "    def printOrders(self):\n",
    "        print(self.orders)\n",
    "\n",
    "    def updateInventory(self):\n",
    "        Products = input('Enter the product id: ')\n",
    "        Orderid = input('Enter the order id: ')\n",
    "        new = int((self.inventory[Products]['Quantity']) - int(self.orders[Orderid]['Quantity']))\n",
    "        self.inventory.replace(self.inventory[Products]['Quantity'] , new)\n",
    "\n",
    "trinity = sportMart()\n",
    "orders = open('orders.csv' , '+r')\n",
    "orders_header = orders.readline()\n",
    "orders_orders = orders.readlines()\n",
    "for item in orders_orders:\n",
    "    temp = item.strip().split(',')\n",
    "    trinity.createOrder(temp[0],temp[1],temp[2])\n",
    "\n",
    "trinity.printOrders()\n",
    "trinity.updateInventory()\n",
    "     "
   ]
  }
 ],
 "metadata": {
  "kernelspec": {
   "display_name": "Python 3",
   "language": "python",
   "name": "python3"
  },
  "language_info": {
   "codemirror_mode": {
    "name": "ipython",
    "version": 3
   },
   "file_extension": ".py",
   "mimetype": "text/x-python",
   "name": "python",
   "nbconvert_exporter": "python",
   "pygments_lexer": "ipython3",
   "version": "3.11.5"
  }
 },
 "nbformat": 4,
 "nbformat_minor": 2
}
