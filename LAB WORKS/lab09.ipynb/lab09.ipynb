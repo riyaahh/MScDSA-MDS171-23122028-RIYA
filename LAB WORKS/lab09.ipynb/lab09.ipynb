{
 "cells": [
  {
   "cell_type": "markdown",
   "metadata": {},
   "source": [
    "using the expense tracker class continue with the task \n",
    "create a csv file for expense/income\n",
    "load the csv file and populate the dictionary of the expense tracker\n",
    "find the total expense and income\n",
    "\n",
    "additional task\n",
    "using the concep of menu driven programming\n",
    "show thw menu options to add new transactions(expense/income)\n",
    "export the updated dictionary to the file"
   ]
  },
  {
   "cell_type": "code",
   "execution_count": 22,
   "metadata": {},
   "outputs": [
    {
     "name": "stdout",
     "output_type": "stream",
     "text": [
      "income\n",
      "{'category': 'electricity bill', 'cost': 4500, 'description': 'mdhc', 'date': '17/02/2023'}\n",
      "expenses\n",
      "{'category': 'food', 'cost': 450, 'description': '1980a', 'date': '02/12/2023'}\n",
      "{'category': 'shopping', 'cost': 500, 'description': 'lulu', 'date': '27/07/2023'}\n",
      "total income\n",
      "4500\n",
      "total expense\n",
      "950\n"
     ]
    }
   ],
   "source": [
    "class expensetracker():\n",
    "    def __init__(self):#data members are kept with in init, init inizialising value for variables\n",
    "        self.transactions={\n",
    "            \"expenses\":[],\n",
    "            \"income\":[],\n",
    "        }\n",
    "\n",
    "    def storeTransaction(self,type,category,cost,desc,date):\n",
    "        transaction={\n",
    "            \"category\":category,\n",
    "            \"cost\":cost,\n",
    "            \"description\":desc,\n",
    "            \"date\":date,\n",
    "        }\n",
    "        if type ==\"expense\":\n",
    "            self.transactions['expenses'].append(transaction)\n",
    "        else:\n",
    "            self.transactions['income'].append(transaction)\n",
    "        #type:expense/income\n",
    "        #category\n",
    "        #cost/amount\n",
    "        #description of transaction\n",
    "        #date\n",
    "        return True\n",
    "\n",
    "    def view_transactions(self):\n",
    "        print(\"income\")\n",
    "        for i in self.transactions['income']:\n",
    "            print(i)\n",
    "        print(\"expenses\")\n",
    "        for i in self.transactions['expenses']:\n",
    "            print(i)\n",
    "    def total_incomeexpense(self):\n",
    "        print(\"total income\")\n",
    "        total_income=0\n",
    "        for income in self.transactions['income']:\n",
    "            total_income+=income[\"cost\"]\n",
    "        print(total_income)\n",
    "\n",
    "        print(\"total expense\")\n",
    "        total_expense=0\n",
    "        for expenses in self.transactions['expenses']:\n",
    "            total_expense+=expenses[\"cost\"]\n",
    "        print(total_expense)\n",
    "\n",
    "#object\n",
    "mytransactions = expensetracker()\n",
    "mytransactions.storeTransaction(\"income\",\"electricity bill\",4500,\"mdhc\",\"17/02/2023\")\n",
    "mytransactions.storeTransaction(\"expense\",\"food\",450,\"1980a\",\"02/12/2023\")\n",
    "mytransactions.storeTransaction(\"expense\",\"shopping\",500,\"lulu\",\"27/07/2023\")\n",
    "\n",
    "mytransactions.view_transactions()\n",
    "\n",
    "mytransactions.total_incomeexpense()\n"
   ]
  },
  {
   "cell_type": "code",
   "execution_count": 34,
   "metadata": {},
   "outputs": [
    {
     "name": "stdout",
     "output_type": "stream",
     "text": [
      "income\n",
      "{'category': 'electricity bill', 'cost': '452', 'description': 'payed', 'date': '18-02-2001'}\n",
      "{'category': 'rent', 'cost': '700', 'description': 'payed', 'date': '19-02-2001'}\n",
      "{'category': 'shopping', 'cost': '100', 'description': 'family', 'date': '20-02-2001'}\n",
      "{'category': 'food', 'cost': '900', 'description': 'dinner', 'date': '23-02-2001'}\n",
      "{'category': 'salary', 'cost': '600', 'description': 'saved', 'date': '24-02-2001'}\n",
      "{'category': 'food', 'cost': '400', 'description': 'breakfast', 'date': '28-02-2001'}\n",
      "{'category': 'salary', 'cost': '900', 'description': 'psaved', 'date': '01-03-2001'}\n",
      "{'category': 'food', 'cost': '700', 'description': 'tea', 'date': '05-03-2001'}\n",
      "{'category': 'rent', 'cost': '1200', 'description': 'payed', 'date': '06-03-2001'}\n",
      "{'category': '', 'cost': '', 'description': '', 'date': ''}\n",
      "{'category': '', 'cost': '', 'description': '', 'date': ''}\n",
      "{'category': '', 'cost': '', 'description': '', 'date': ''}\n",
      "{'category': '', 'cost': '', 'description': '', 'date': ''}\n",
      "{'category': '', 'cost': '', 'description': '', 'date': ''}\n",
      "{'category': '', 'cost': '', 'description': '', 'date': ''}\n",
      "{'category': '', 'cost': '', 'description': '', 'date': ''}\n",
      "{'category': '', 'cost': '', 'description': '', 'date': ''}\n",
      "{'category': '', 'cost': '', 'description': 'DATE', 'date': ''}\n",
      "expenses\n",
      "{'category': 'food', 'cost': '500', 'description': 'dinner', 'date': '17-02-2001'}\n",
      "{'category': 'shopping', 'cost': '2500', 'description': 'lulumall', 'date': '21-02-2001'}\n",
      "{'category': 'food', 'cost': '805', 'description': 'lunch', 'date': '22-02-2001'}\n",
      "{'category': 'shopping', 'cost': '2023', 'description': 'cloths', 'date': '25-02-2001'}\n",
      "{'category': 'shopping', 'cost': '4220', 'description': 'friends', 'date': '26-02-2001'}\n",
      "{'category': 'food', 'cost': '785', 'description': 'breakfast', 'date': '27-02-2001'}\n",
      "{'category': 'shopping', 'cost': '1000', 'description': 'family', 'date': '02-03-2001'}\n",
      "{'category': 'shopping', 'cost': '450', 'description': 'family', 'date': '03-03-2001'}\n",
      "{'category': 'food', 'cost': '200', 'description': 'tea', 'date': '04-03-2001'}\n",
      "{'category': 'salary', 'cost': '5000', 'description': 'saved', 'date': '07-03-2001'}\n",
      "total income\n"
     ]
    },
    {
     "ename": "TypeError",
     "evalue": "unsupported operand type(s) for +=: 'int' and 'str'",
     "output_type": "error",
     "traceback": [
      "\u001b[1;31m---------------------------------------------------------------------------\u001b[0m",
      "\u001b[1;31mTypeError\u001b[0m                                 Traceback (most recent call last)",
      "\u001b[1;32md:\\CHRIST\\MScDSA-MDS171-23122028-RIYA\\lab09.ipynb\\lab09.ipynb Cell 3\u001b[0m line \u001b[0;36m1\n\u001b[0;32m     <a href='vscode-notebook-cell:/d%3A/CHRIST/MScDSA-MDS171-23122028-RIYA/lab09.ipynb/lab09.ipynb#W2sZmlsZQ%3D%3D?line=11'>12</a>\u001b[0m         \u001b[39mobject\u001b[39m\u001b[39m.\u001b[39mstoreTransaction(line[\u001b[39m0\u001b[39m],line[\u001b[39m1\u001b[39m],line[\u001b[39m2\u001b[39m],line[\u001b[39m3\u001b[39m],line[\u001b[39m4\u001b[39m])\n\u001b[0;32m     <a href='vscode-notebook-cell:/d%3A/CHRIST/MScDSA-MDS171-23122028-RIYA/lab09.ipynb/lab09.ipynb#W2sZmlsZQ%3D%3D?line=14'>15</a>\u001b[0m \u001b[39mobject\u001b[39m\u001b[39m.\u001b[39mview_transactions()\n\u001b[1;32m---> <a href='vscode-notebook-cell:/d%3A/CHRIST/MScDSA-MDS171-23122028-RIYA/lab09.ipynb/lab09.ipynb#W2sZmlsZQ%3D%3D?line=15'>16</a>\u001b[0m \u001b[39mobject\u001b[39;49m\u001b[39m.\u001b[39;49mtotal_incomeexpense()\n",
      "\u001b[1;32md:\\CHRIST\\MScDSA-MDS171-23122028-RIYA\\lab09.ipynb\\lab09.ipynb Cell 3\u001b[0m line \u001b[0;36m3\n\u001b[0;32m     <a href='vscode-notebook-cell:/d%3A/CHRIST/MScDSA-MDS171-23122028-RIYA/lab09.ipynb/lab09.ipynb#W2sZmlsZQ%3D%3D?line=34'>35</a>\u001b[0m total_income\u001b[39m=\u001b[39m\u001b[39m0\u001b[39m\n\u001b[0;32m     <a href='vscode-notebook-cell:/d%3A/CHRIST/MScDSA-MDS171-23122028-RIYA/lab09.ipynb/lab09.ipynb#W2sZmlsZQ%3D%3D?line=35'>36</a>\u001b[0m \u001b[39mfor\u001b[39;00m income \u001b[39min\u001b[39;00m \u001b[39mself\u001b[39m\u001b[39m.\u001b[39mtransactions[\u001b[39m'\u001b[39m\u001b[39mincome\u001b[39m\u001b[39m'\u001b[39m]:\n\u001b[1;32m---> <a href='vscode-notebook-cell:/d%3A/CHRIST/MScDSA-MDS171-23122028-RIYA/lab09.ipynb/lab09.ipynb#W2sZmlsZQ%3D%3D?line=36'>37</a>\u001b[0m     total_income\u001b[39m+\u001b[39;49m\u001b[39m=\u001b[39;49mincome[\u001b[39m\"\u001b[39;49m\u001b[39mcost\u001b[39;49m\u001b[39m\"\u001b[39;49m]\n\u001b[0;32m     <a href='vscode-notebook-cell:/d%3A/CHRIST/MScDSA-MDS171-23122028-RIYA/lab09.ipynb/lab09.ipynb#W2sZmlsZQ%3D%3D?line=37'>38</a>\u001b[0m \u001b[39mprint\u001b[39m(total_income)\n\u001b[0;32m     <a href='vscode-notebook-cell:/d%3A/CHRIST/MScDSA-MDS171-23122028-RIYA/lab09.ipynb/lab09.ipynb#W2sZmlsZQ%3D%3D?line=39'>40</a>\u001b[0m \u001b[39mprint\u001b[39m(\u001b[39m\"\u001b[39m\u001b[39mtotal expense\u001b[39m\u001b[39m\"\u001b[39m)\n",
      "\u001b[1;31mTypeError\u001b[0m: unsupported operand type(s) for +=: 'int' and 'str'"
     ]
    }
   ],
   "source": [
    "object=expensetracker()\n",
    "getfile=expensetracker()\n",
    "with open(\"python.csv\",\"r+\") as csvfile:\n",
    "    file=csvfile.readlines()\n",
    "    \n",
    "for row in file:\n",
    "    line=row.strip().split(\",\")\n",
    "     \n",
    "    if 'COST' in line[2]:\n",
    "        pass\n",
    "    else:\n",
    "        object.storeTransaction(line[0],line[1],line[2],line[3],line[4])\n",
    "\n",
    "\n",
    "object.view_transactions()\n",
    "object.total_incomeexpense()\n",
    "        \n"
   ]
  },
  {
   "cell_type": "code",
   "execution_count": 1,
   "metadata": {},
   "outputs": [
    {
     "name": "stdout",
     "output_type": "stream",
     "text": [
      "{'expenses': [], 'income': [{'category': 'home', 'amount': 5000}]}\n",
      "{'expenses': [{'category': 'shopping', 'amount': 70}], 'income': [{'category': 'home', 'amount': 5000}]}\n",
      "income\n",
      "{'category': 'home', 'amount': 5000}\n",
      "expenses\n",
      "{'category': 'shopping', 'amount': 70}\n",
      "total of income\n",
      "5000\n"
     ]
    }
   ],
   "source": [
    "class Tracker:\n",
    "    def __init__(self):\n",
    "        self.transactions={\n",
    "            \"expenses\":[],\n",
    "            \"income\":[],\n",
    "        }\n",
    "\n",
    "    def storeTransactions(self,type,category,amount):\n",
    "        transactions={\n",
    "            \"category\":category,\n",
    "            \"amount\":amount\n",
    "        }\n",
    "        if type == \"income\":\n",
    "            self.transactions[\"income\"].append(transactions)\n",
    "        elif type == \"expenses\":\n",
    "            self.transactions[\"expenses\"].append(transactions)\n",
    "        else:\n",
    "            pass\n",
    "        print(self.transactions)\n",
    "    \n",
    "    def viewTransactions(self):\n",
    "        print(\"income\")\n",
    "        for i in self.transactions[\"income\"]:\n",
    "            print(i)\n",
    "        print(\"expenses\")\n",
    "        for j in self.transactions[\"expenses\"]:\n",
    "            print(j)\n",
    "\n",
    "    def calAmount(self):\n",
    "        print(\"total of income\")\n",
    "        total=0\n",
    "        for amt in self.transactions[\"income\"]:\n",
    "            total=total+int(amt[\"amount\"])\n",
    "        print(total)\n",
    "\n",
    "obj=Tracker()\n",
    "obj.storeTransactions(\"income\",\"home\",5000)\n",
    "obj.storeTransactions(\"expenses\",\"shopping\",70)\n",
    "obj.viewTransactions()\n",
    "obj.calAmount()"
   ]
  }
 ],
 "metadata": {
  "kernelspec": {
   "display_name": "Python 3",
   "language": "python",
   "name": "python3"
  },
  "language_info": {
   "codemirror_mode": {
    "name": "ipython",
    "version": 3
   },
   "file_extension": ".py",
   "mimetype": "text/x-python",
   "name": "python",
   "nbconvert_exporter": "python",
   "pygments_lexer": "ipython3",
   "version": "3.11.6"
  },
  "orig_nbformat": 4
 },
 "nbformat": 4,
 "nbformat_minor": 2
}
