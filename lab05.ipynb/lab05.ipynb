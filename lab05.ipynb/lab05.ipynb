{
 "cells": [
  {
   "cell_type": "markdown",
   "metadata": {},
   "source": [
    "Mix & Match Calculator\n",
    "\n",
    "Create Lists for [Item, Quantity, Price] with 10 random values of your choice.\n",
    "The item list can be of any category of your choice [Food Items, Grocery Items,...] or anything you choose that can be bought.\n",
    "\n",
    "Prepare a CSV file with combinations of these values with the help of random index & looping statements and other control structures we discussed in class.\n",
    "\n",
    "To get a random index or number to access items from the list, you can use the following:\n",
    "random is a library in Python that can be used to generate random numbers.\n",
    "\n",
    "import random # Importing the external library\n",
    "r1 = random.randint(0, 10) # Generating the random number from the range and store it in r1 variable\n",
    "\n",
    "More details of the Random library usage can be found here.\n",
    "\n",
    "Your CSV file should have a minimum of 100 rows created randomly with the data in the list and the random library.\n",
    "Each row in the CSV file will have (item, Quantity, and UnitPrice).\n",
    "\n",
    "After preparing the CSV with Python code, you need to compute\n",
    "The total cost for each row, display the result from the first 5 rows and the last 10 rows\n",
    "Calculate the total cost for each unique item in the dataset.\n",
    "Item Name | Total Quantity | Total\n",
    "Print the minimum & maximum price for each item sold\n",
    "Note:\n",
    "Create a folder Lab 05.\n",
    "Inside the folder, you will have Lab 05.ipynb and the CSV file will have your name as the filename.\n",
    "Submit the CSV file and IPYNB file in Moodle, and Update the same in GitHub and Submit the link in the text area provided."
   ]
  },
  {
   "cell_type": "code",
   "execution_count": 3,
   "metadata": {},
   "outputs": [
    {
     "name": "stdout",
     "output_type": "stream",
     "text": [
      "item|quantity|unit price total price\n",
      "burger,5,45 90 \n",
      "\n",
      "magie,1,90 180 \n",
      "\n",
      "cake,3,60 204 \n",
      "\n",
      "chocolate,6,34 500 \n",
      "\n",
      "cake,1,80 540 \n",
      "\n",
      "piza,9,60 225 \n",
      "\n",
      "chocolate,5,45 320 \n",
      "\n",
      "sweet,4,80 40 \n",
      "\n",
      "spices,2,20 90 \n",
      "\n",
      "piza,2,45 240 \n",
      "\n",
      "spices,3,80 450 \n",
      "\n"
     ]
    }
   ],
   "source": [
    "import random\n",
    "item=[\"chips\",\"biscuit\",\"cake\",\"burger\",\"piza\",\"lolipop\",\"chocolate\",\"spices\",\"sweet\",\"magie\"]\n",
    "quantity =[\"1\",\"4\",\"3\",\"7\",\"9\",\"6\",\"3\",\"2\",\"5\",\"8\"]\n",
    "price =[\"50\",\"90\",\"100\",\"34\",\"67\",\"90\",\"80\",\"45\",\"60\",\"20\"]\n",
    "totalst=[]\n",
    "file= open(\"23122028.csv\",\"w+\")\n",
    "file.write(\"item|quantity|unit price\\n\")\n",
    "for i in range(100):\n",
    "    \n",
    "    r1=random.randint(0,9)  #getting random numbers\n",
    "    r2=random.randint(0,9)\n",
    "    r3=random.randint(0,9)\n",
    "    intquantity= int(quantity[r2])\n",
    "    intprice = int(price[r3])\n",
    "    total = intquantity*intprice\n",
    "    totalst.append(total)\n",
    "    file.write(item[r1]+\",\"+quantity[r2]+\",\"+price[r3]+\"\\n\")\n",
    "file.close()\n",
    "with open(\"23122028.csv\",\"r+\") as file:\n",
    "    lines=file.readlines()\n",
    "    counter=0\n",
    "    for i in lines:  #pdisplay total cost in the first five rows\n",
    "        if \"item\" in i:\n",
    "            print(i.strip(),\"total price\")\n",
    "        elif(counter<5 or 91<counter<99):\n",
    "            print(i.strip(),totalst[counter],\"\\n\")\n",
    "        else:\n",
    "            pass\n",
    "        counter+=1\n",
    "    #for i in range(91,101): #last ten lines\n",
    "        #lines=file.readline()\n",
    "        #print(lines,totalst[i])\n",
    "\n",
    "\n",
    "\n",
    "\n",
    "    \n",
    "\n"
   ]
  },
  {
   "cell_type": "code",
   "execution_count": 18,
   "metadata": {},
   "outputs": [
    {
     "name": "stdout",
     "output_type": "stream",
     "text": [
      "6102 2890 2706 3604 4717 4855 2558 1305 1905 3226\n",
      "Item Name | Total Quantity | Total\n"
     ]
    }
   ],
   "source": [
    "#total cost for each unique item\n",
    "\n",
    "with open(\"23122028.csv\",\"r+\") as file:\n",
    "    line=file.readlines()\n",
    "    m=0\n",
    "    n=0\n",
    "    u=0\n",
    "    y=0\n",
    "    t=0\n",
    "    r=0\n",
    "    q=0\n",
    "    z=0\n",
    "    c=0\n",
    "    v=0\n",
    "    for i in line:\n",
    "        k=i.split(\"=\")\n",
    "        if 'magie' in k[0]:\n",
    "            m=m+int(k[1])\n",
    "        elif 'sweet' in k[0]:\n",
    "            n=n+int(k[1])\n",
    "        elif 'spices' in k[0]:\n",
    "            u=u+int(k[1])\n",
    "        elif 'chocolate' in k[0]:\n",
    "            y=y+int(k[1])\n",
    "        elif 'lolipop'in k[0]:\n",
    "            t=t+int(k[1])\n",
    "        elif 'piza' in k[0]:\n",
    "            r=r+int(k[1])\n",
    "        elif 'burger' in k[0]:\n",
    "            q=q+int(k[1])\n",
    "        elif 'cake' in k[0]:\n",
    "            z=z+int(k[1])\n",
    "        elif 'biscuit' in k[0]:\n",
    "            c=c+int(k[1])\n",
    "        else:    \n",
    "            v=v+int(k[1])\n",
    "    print(m,n,u,y,t,r,q,z,c,v)\n",
    "        \n",
    "\n",
    "print(\"Item Name | Total Quantity | Total\")\n",
    "\n",
    "                             \n",
    "    \n",
    "\n",
    "        \n",
    "\n",
    "\n",
    "\n",
    "\n",
    "\n",
    "    \n",
    "\n",
    "    "
   ]
  },
  {
   "cell_type": "code",
   "execution_count": 3,
   "metadata": {},
   "outputs": [],
   "source": [
    "#minimum and maximum price of each item\n",
    "magiep=[]\n",
    "sweetp=[]\n",
    "spicep=[]\n",
    "chocolatep=[]\n",
    "lolipopp=[]\n",
    "pizap=[]\n",
    "burgerp=[]\n",
    "cakep=[]\n",
    "biscuitp=[]\n",
    "chipsp=[]\n",
    "\n",
    "\n"
   ]
  },
  {
   "cell_type": "code",
   "execution_count": 25,
   "metadata": {},
   "outputs": [],
   "source": [
    "import random\n",
    "\n",
    "item=[\"chips\",\"biscuit\",\"cake\",\"burger\",\"piza\",\"lolipop\",\"chocolate\",\"spices\",\"sweet\",\"magie\"]\n",
    "quantity =[\"1\",\"4\",\"3\",\"7\",\"9\",\"6\",\"3\",\"2\",\"5\",\"8\"]\n",
    "price =[\"50\",\"90\",\"100\",\"34\",\"67\",\"90\",\"80\",\"45\",\"60\",\"20\"]\n",
    "def randomValues():\n",
    "    r1=random.randint(0,9)\n",
    "    r2=random.randint(0,9)\n",
    "    r3=random.randint(0,9)\n",
    "\n",
    "    return item[r1]+\",\"+str(quantity[r2])+\",\"+str(price[r3])+\"\\n\"\n",
    "for i in range(0,100,1):\n",
    "    with open(\"itemlist.csv\",\"w+\") as csvfile:\n",
    "      csvfile.write(randomValues())\n"
   ]
  },
  {
   "cell_type": "code",
   "execution_count": 5,
   "metadata": {},
   "outputs": [
    {
     "name": "stdout",
     "output_type": "stream",
     "text": [
      "20.0\n"
     ]
    }
   ],
   "source": [
    "n1=70\n",
    "n2=50\n",
    "z=float(n1)-n2\n",
    "print(z)"
   ]
  },
  {
   "cell_type": "code",
   "execution_count": 7,
   "metadata": {},
   "outputs": [
    {
     "name": "stdout",
     "output_type": "stream",
     "text": [
      "1020\n"
     ]
    }
   ],
   "source": [
    "a1=\"10\"\n",
    "a2=\"20\"\n",
    "a3=a1+a2\n",
    "print(a3)"
   ]
  },
  {
   "cell_type": "code",
   "execution_count": 12,
   "metadata": {},
   "outputs": [
    {
     "name": "stdout",
     "output_type": "stream",
     "text": [
      "False\n"
     ]
    }
   ],
   "source": [
    "a1=\"data science lab\"\n",
    "result=type(a1) is str\n",
    "print(result)\n",
    "\n"
   ]
  },
  {
   "cell_type": "code",
   "execution_count": 7,
   "metadata": {},
   "outputs": [
    {
     "name": "stdout",
     "output_type": "stream",
     "text": [
      "6\n"
     ]
    }
   ],
   "source": [
    "a=10\n",
    "b=80\n",
    "c=30\n",
    "z=a-b//c*2\n",
    "print(z)"
   ]
  },
  {
   "cell_type": "code",
   "execution_count": null,
   "metadata": {},
   "outputs": [],
   "source": []
  }
 ],
 "metadata": {
  "kernelspec": {
   "display_name": "Python 3",
   "language": "python",
   "name": "python3"
  },
  "language_info": {
   "codemirror_mode": {
    "name": "ipython",
    "version": 3
   },
   "file_extension": ".py",
   "mimetype": "text/x-python",
   "name": "python",
   "nbconvert_exporter": "python",
   "pygments_lexer": "ipython3",
   "version": "3.11.5"
  },
  "orig_nbformat": 4
 },
 "nbformat": 4,
 "nbformat_minor": 2
}
