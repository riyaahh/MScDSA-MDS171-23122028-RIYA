{
 "cells": [
  {
   "cell_type": "markdown",
   "metadata": {},
   "source": [
    "Create a Python Class for managing student details and marks.\n",
    "Define the class and implement the methods of the student class in a menu-driven program for different types of users"
   ]
  },
  {
   "cell_type": "code",
   "execution_count": 50,
   "metadata": {},
   "outputs": [
    {
     "name": "stdout",
     "output_type": "stream",
     "text": [
      "1.teacher\n",
      "2.student\n",
      "a.add student\n",
      "b.edit student\n",
      "c.search value\n",
      "{1: {'name': 'anu', 'age': 20, 'mark': 98}}\n",
      "{1: {'name': 'anu', 'age': 20, 'mark': 98}, 2: {'name': 'anamika', 'age': 23, 'mark': 99}}\n",
      "{1: {'name': 'anu', 'age': 20, 'mark': 98}, 2: {'name': 'anamika', 'age': 23, 'mark': 99}, 3: {'name': 'anugraha', 'age': 24, 'mark': 66}}\n",
      "{1: {'name': 'anu', 'age': 20, 'mark': 98}, 2: {'name': 'anamika', 'age': 23, 'mark': 99}, 3: {'name': 'anugraha', 'age': 24, 'mark': 66}, 4: {'name': 'riya', 'age': 20, 'mark': 78}}\n",
      "{1: {'name': 'anu', 'age': 20, 'mark': 98}, 2: {'name': 'anamika', 'age': 23, 'mark': 99}, 3: {'name': 'anugraha', 'age': 24, 'mark': 66}, 4: {'name': 'riya', 'age': 20, 'mark': 78}, 5: {'name': 'roha', 'age': 33, 'mark': 65}}\n",
      "{1: {'name': 'anu', 'age': 20, 'mark': 98}, 2: {'name': 'anamika', 'age': 23, 'mark': 99}, 3: {'name': 'anugraha', 'age': 24, 'mark': 66}, 4: {'name': 'riya', 'age': 20, 'mark': 78}, 5: {'name': '99', 'age': 33, 'mark': 65}}\n",
      "{'name': 'anu', 'age': 20, 'mark': 98}\n",
      "{1: {'name': 'anu', 'age': 20, 'mark': 98}, 2: {'name': 'anamika', 'age': 23, 'mark': 99}, 3: {'name': 'anugraha', 'age': 24, 'mark': 66}, 4: {'name': 'riya', 'age': 20, 'mark': 78}, 5: {'name': 'dev', 'age': 99, 'mark': 99}}\n",
      "q.view\n",
      "{1: {'name': 'anu', 'age': 20, 'mark': 98}, 2: {'name': 'anamika', 'age': 23, 'mark': 99}, 3: {'name': 'anugraha', 'age': 24, 'mark': 66}, 4: {'name': 'riya', 'age': 20, 'mark': 78}, 5: {'name': 'dev', 'age': 22, 'mark': 55}}\n"
     ]
    }
   ],
   "source": [
    "class students:\n",
    "    def __init__(self):\n",
    "       self.studdict={}\n",
    "\n",
    "    def collectInfo(self,rollno,name,age,mark):\n",
    "            self.studentname={\n",
    "                rollno:{\n",
    "                \"name\":name,   \n",
    "                \"age\":age,\n",
    "                \"mark\":mark\n",
    "            }\n",
    "        }\n",
    "            self.studdict.update(self.studentname)\n",
    "            print(self.studdict)\n",
    "\n",
    "\n",
    "    def updateClass(self):\n",
    "                rollnumber=int(input(\"enter the roll number in which the value is to be updated\"))\n",
    "                if rollnumber in self.studdict.keys():\n",
    "                    value=input(\"enter the value to be updated\")\n",
    "                    for value in self.studdict[rollno].keys():\n",
    "                        if value==\"name\":\n",
    "                                newname=input(\"enter the new name\")\n",
    "                                self.studdict[rollno][value]=newname\n",
    "                                print(self.studdict)\n",
    "                        elif value ==\"age\" :\n",
    "                                newage=int(input(\"enter the new age\"))\n",
    "                                self.studdict[rollno][value]=newage\n",
    "                        elif value ==\"mark\":\n",
    "                                newmark=int(input(\"enter the new mark\"))\n",
    "                                self.studdict[rollno][value]=newmark\n",
    "                        else:\n",
    "                                print(\"invalid\")\n",
    "\n",
    "    def viewClass(self):\n",
    "          print(self.studdict)\n",
    "    \n",
    "    def searchValue(self,k):\n",
    "          if k in self.studdict.keys():\n",
    "                s=self.studdict[k]\n",
    "                print(s)\n",
    "          else:\n",
    "                 print(\"invalid input\")\n",
    "\n",
    "   \n",
    "\n",
    "obj=students()\n",
    "\n",
    "\n",
    "print(\"1.teacher\")\n",
    "print(\"2.student\")\n",
    "while True:\n",
    "\n",
    "      choice=input(\"enter who you are?\")\n",
    "      if choice ==\"1\":\n",
    "                  print(\"a.add student\")\n",
    "                  print(\"b.edit student\")\n",
    "                  print(\"c.search value\")\n",
    "                  while True:\n",
    "                    choice1=input(\"enter your choice\")\n",
    "                    if choice1 ==\"a\":\n",
    "                        n= int(input(\"enter the number of details to be entered\"))\n",
    "                        for i in range(n):\n",
    "                                rollno=int(input(\"enter the roll number\"))\n",
    "                                name=input(\"enter the name\")\n",
    "                                age=int(input(\"enter he age\"))\n",
    "                                mark=int(input(\"enter the mark\"))\n",
    "        \n",
    "                                obj.collectInfo(rollno,name,age,mark)  \n",
    "                    elif choice1 ==\"b\":\n",
    "                            obj.updateClass()\n",
    "                    elif choice1 ==\"c\":\n",
    "                            k=int(input(\"enter the rollnumber to be searched\"))\n",
    "                            obj.searchValue(k)\n",
    "\n",
    "                    else:\n",
    "        \n",
    "                        break\n",
    "      elif choice==\"2\":\n",
    "              print(\"q.view\")\n",
    "              while True:\n",
    "                    choice2=input(\"enter your choice\")\n",
    "                    if choice2 ==\"q\":\n",
    "                            obj.viewClass()\n",
    "                    else:\n",
    "                            break\n",
    "                        \n",
    "      else:\n",
    "                break\n",
    "            \n"
   ]
  },
  {
   "cell_type": "code",
   "execution_count": 39,
   "metadata": {},
   "outputs": [
    {
     "name": "stdout",
     "output_type": "stream",
     "text": [
      "{21: {'name': 'riya', 'mark': {'english': 20}}}\n"
     ]
    }
   ],
   "source": [
    "class Classroom:\n",
    "    def __init__(self):\n",
    "        self.students={}\n",
    "    def addStudent(self,name,regno):\n",
    "        self.students[regno]={\n",
    "            \"name\":name,\n",
    "            \"mark\":{} }\n",
    "    def addMarks(self,regno,subject,mark):\n",
    "        self.students[regno][\"mark\"][subject]=mark\n",
    "        print(self.students)\n",
    "obj=Classroom()\n",
    "name=input(\"enter your name\")\n",
    "regno=int(input(\"enter the regno\"))\n",
    "subject=input(\"enter the subject\")\n",
    "mark=int(input(\"enter the marks\"))\n",
    "obj.addStudent(name,regno)\n",
    "obj.addMarks(regno,subject,mark)"
   ]
  },
  {
   "cell_type": "code",
   "execution_count": null,
   "metadata": {},
   "outputs": [],
   "source": []
  }
 ],
 "metadata": {
  "kernelspec": {
   "display_name": "Python 3",
   "language": "python",
   "name": "python3"
  },
  "language_info": {
   "codemirror_mode": {
    "name": "ipython",
    "version": 3
   },
   "file_extension": ".py",
   "mimetype": "text/x-python",
   "name": "python",
   "nbconvert_exporter": "python",
   "pygments_lexer": "ipython3",
   "version": "3.11.6"
  }
 },
 "nbformat": 4,
 "nbformat_minor": 2
}
